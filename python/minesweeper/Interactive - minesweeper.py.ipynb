{
 "cells": [
  {
   "cell_type": "markdown",
   "metadata": {},
   "source": [
    "Connected to Python 3.12.4"
   ]
  },
  {
   "cell_type": "code",
   "execution_count": 1,
   "metadata": {},
   "outputs": [],
   "source": [
    "a = [\"***\", \"* *\", \"***\"]"
   ]
  },
  {
   "cell_type": "code",
   "execution_count": 2,
   "metadata": {},
   "outputs": [],
   "source": [
    "b = enumerate(a)"
   ]
  },
  {
   "cell_type": "code",
   "execution_count": 3,
   "metadata": {},
   "outputs": [
    {
     "name": "stdout",
     "output_type": "stream",
     "text": [
      "(0, '***')\n",
      "(1, '* *')\n",
      "(2, '***')\n"
     ]
    }
   ],
   "source": [
    "for c in b:\n",
    "    print(c)"
   ]
  },
  {
   "cell_type": "code",
   "execution_count": 4,
   "id": "24e009e7-374e-408f-bf22-d9dea21e3acf",
   "metadata": {},
   "outputs": [],
   "source": [
    "COORDS = [(1, 0), # right \n",
    "          (1, -1), # diagonal right down\n",
    "          (0, 1), # down\n",
    "          (-1, 1), # diagonal left down\n",
    "          (-1, 0), # left\n",
    "          (-1, 1), # diagonal left up\n",
    "          (0, 1), # up\n",
    "          (1, 1)] # diagonal right up\n",
    "\n",
    "def annotate(minefield):\n",
    "    \n",
    "    values = [(x, y, minefield[x][y])\n",
    "              for x in range(len(minefield))\n",
    "              for y in range(len(minefield[0]))]\n",
    "\n",
    "    return values"
   ]
  },
  {
   "cell_type": "code",
   "execution_count": 5,
   "metadata": {},
   "outputs": [
    {
     "data": {
      "text/plain": [
       "[(0, 0, '*'),\n",
       " (0, 1, '*'),\n",
       " (0, 2, '*'),\n",
       " (1, 0, '*'),\n",
       " (1, 1, ' '),\n",
       " (1, 2, '*'),\n",
       " (2, 0, '*'),\n",
       " (2, 1, '*'),\n",
       " (2, 2, '*')]"
      ]
     },
     "execution_count": 5,
     "metadata": {},
     "output_type": "execute_result"
    }
   ],
   "source": [
    "annotate([\"***\", \"* *\", \"***\"])"
   ]
  },
  {
   "cell_type": "code",
   "execution_count": 6,
   "metadata": {},
   "outputs": [],
   "source": [
    "a = [(0, 0, '*'),\n",
    " (0, 1, '*'),\n",
    " (0, 2, '*'),\n",
    " (1, 0, '*'),\n",
    " (1, 1, ' '),\n",
    " (1, 2, '*'),\n",
    " (2, 0, '*'),\n",
    " (2, 1, '*'),\n",
    " (2, 2, '*')]"
   ]
  },
  {
   "cell_type": "code",
   "execution_count": 7,
   "metadata": {},
   "outputs": [
    {
     "data": {
      "text/plain": [
       "(0,)"
      ]
     },
     "execution_count": 7,
     "metadata": {},
     "output_type": "execute_result"
    }
   ],
   "source": [
    "a[0][:1]"
   ]
  },
  {
   "cell_type": "code",
   "execution_count": 8,
   "metadata": {},
   "outputs": [
    {
     "data": {
      "text/plain": [
       "(0, 0)"
      ]
     },
     "execution_count": 8,
     "metadata": {},
     "output_type": "execute_result"
    }
   ],
   "source": [
    "a[0][:2]"
   ]
  },
  {
   "cell_type": "code",
   "execution_count": 9,
   "metadata": {},
   "outputs": [
    {
     "data": {
      "text/plain": [
       "(0, 0, 1, 0)"
      ]
     },
     "execution_count": 9,
     "metadata": {},
     "output_type": "execute_result"
    }
   ],
   "source": [
    "a[0][:2] + (1, 0)"
   ]
  },
  {
   "cell_type": "code",
   "execution_count": 10,
   "metadata": {},
   "outputs": [
    {
     "data": {
      "text/plain": [
       "(1, 0)"
      ]
     },
     "execution_count": 10,
     "metadata": {},
     "output_type": "execute_result"
    }
   ],
   "source": [
    "tuple(sum(x) for x in zip(a[0][:2], (1, 0)))"
   ]
  },
  {
   "cell_type": "code",
   "execution_count": 11,
   "metadata": {},
   "outputs": [
    {
     "data": {
      "text/plain": [
       "(2, 1)"
      ]
     },
     "execution_count": 11,
     "metadata": {},
     "output_type": "execute_result"
    }
   ],
   "source": [
    "tuple(sum(x) for x in zip(a[4][:2], (1, 0)))"
   ]
  },
  {
   "cell_type": "code",
   "execution_count": 12,
   "metadata": {},
   "outputs": [
    {
     "name": "stdout",
     "output_type": "stream",
     "text": [
      "<zip object at 0x000001BB53D06680>\n"
     ]
    }
   ],
   "source": [
    "print( zip(a[4][:2], (1, 0)))"
   ]
  },
  {
   "cell_type": "code",
   "execution_count": 13,
   "metadata": {},
   "outputs": [
    {
     "data": {
      "text/plain": [
       "((1, 1), (1, 0))"
      ]
     },
     "execution_count": 13,
     "metadata": {},
     "output_type": "execute_result"
    }
   ],
   "source": [
    "tuple(x for x in zip(a[4][:2], (1, 0)))"
   ]
  },
  {
   "cell_type": "code",
   "execution_count": 14,
   "metadata": {},
   "outputs": [
    {
     "data": {
      "text/plain": [
       "((2, 0), (0, 1))"
      ]
     },
     "execution_count": 14,
     "metadata": {},
     "output_type": "execute_result"
    }
   ],
   "source": [
    "tuple(x for x in zip(a[6][:2], (0, 1)))"
   ]
  },
  {
   "cell_type": "code",
   "execution_count": 15,
   "metadata": {},
   "outputs": [
    {
     "data": {
      "text/plain": [
       "((1, 0), (0, 1))"
      ]
     },
     "execution_count": 15,
     "metadata": {},
     "output_type": "execute_result"
    }
   ],
   "source": [
    "tuple(x for x in zip(a[3][:2], (0, 1)))"
   ]
  },
  {
   "cell_type": "code",
   "execution_count": 16,
   "metadata": {},
   "outputs": [
    {
     "data": {
      "text/plain": [
       "((0, 0), (2, 1))"
      ]
     },
     "execution_count": 16,
     "metadata": {},
     "output_type": "execute_result"
    }
   ],
   "source": [
    "tuple(x for x in zip(a[2][:2], (0, 1)))"
   ]
  },
  {
   "cell_type": "code",
   "execution_count": 17,
   "metadata": {},
   "outputs": [
    {
     "data": {
      "text/plain": [
       "((2, 1), (0, 0))"
      ]
     },
     "execution_count": 17,
     "metadata": {},
     "output_type": "execute_result"
    }
   ],
   "source": [
    "tuple(x for x in zip(a[6][:2], (1,0)))"
   ]
  },
  {
   "cell_type": "code",
   "execution_count": 18,
   "metadata": {},
   "outputs": [
    {
     "data": {
      "text/plain": [
       "[(0, 0, '*'),\n",
       " (0, 1, '*'),\n",
       " (0, 2, '*'),\n",
       " (1, 0, '*'),\n",
       " (1, 1, ' '),\n",
       " (1, 2, '*'),\n",
       " (2, 0, '*'),\n",
       " (2, 1, '*'),\n",
       " (2, 2, '*')]"
      ]
     },
     "execution_count": 18,
     "metadata": {},
     "output_type": "execute_result"
    }
   ],
   "source": [
    "annotate([\"***\", \"* *\", \"***\"])"
   ]
  },
  {
   "cell_type": "code",
   "execution_count": 19,
   "id": "0b1801e7-771b-4878-840f-533df972e247",
   "metadata": {},
   "outputs": [],
   "source": [
    "COORDS = [(1, 0), # right \n",
    "          (1, -1), # diagonal right down\n",
    "          (0, 1), # down\n",
    "          (-1, 1), # diagonal left down\n",
    "          (-1, 0), # left\n",
    "          (-1, 1), # diagonal left up\n",
    "          (0, 1), # up\n",
    "          (1, 1)] # diagonal right up\n",
    "\n",
    "def annotate(minefield) -> str:\n",
    "    \n",
    "    values = [(x, y, minefield[x][y])\n",
    "              for x in range(len(minefield))\n",
    "              for y in range(len(minefield[0]))]\n",
    "\n",
    "    for value in values:\n",
    "        nr_bombs = 0\n",
    "        if value[2] == ' ': # is an empty space in the board\n",
    "            for coord in COORDS:\n",
    "                check_mine = tuple(sum(x) for x in zip(value[0][:2], coord)) # check a sum of coord\n",
    "                if minefield[check_mine[0], check_mine[1]] == '*': # if it's a bomb\n",
    "                    nr_bombs += 1 # increase nr of bombs adjacent\n",
    "\n",
    "            # change on the board\n",
    "            minefield[value[0], value[1]] = str(nr_bombs)\n",
    "\n",
    "    return minefield"
   ]
  },
  {
   "cell_type": "code",
   "execution_count": 20,
   "metadata": {},
   "outputs": [
    {
     "ename": "TypeError",
     "evalue": "'int' object is not subscriptable",
     "output_type": "error",
     "traceback": [
      "\u001b[1;31m---------------------------------------------------------------------------\u001b[0m",
      "\u001b[1;31mTypeError\u001b[0m                                 Traceback (most recent call last)",
      "Cell \u001b[1;32mIn[20], line 1\u001b[0m\n\u001b[1;32m----> 1\u001b[0m annotate([\u001b[39m\"\u001b[39;49m\u001b[39m***\u001b[39;49m\u001b[39m\"\u001b[39;49m, \u001b[39m\"\u001b[39;49m\u001b[39m* *\u001b[39;49m\u001b[39m\"\u001b[39;49m, \u001b[39m\"\u001b[39;49m\u001b[39m***\u001b[39;49m\u001b[39m\"\u001b[39;49m])\n",
      "File \u001b[1;32mf:\\Code\\Exercism\\python\\minesweeper\\minesweeper.py:20\u001b[0m\n\u001b[0;32m     18\u001b[0m \u001b[39mif\u001b[39;00m value[\u001b[39m2\u001b[39m] \u001b[39m==\u001b[39m \u001b[39m'\u001b[39m\u001b[39m \u001b[39m\u001b[39m'\u001b[39m: \u001b[39m# is an empty space in the board\u001b[39;00m\n\u001b[0;32m     19\u001b[0m     \u001b[39mfor\u001b[39;00m coord \u001b[39min\u001b[39;00m COORDS:\n\u001b[1;32m---> 20\u001b[0m         check_mine \u001b[39m=\u001b[39m \u001b[39mtuple\u001b[39m(\u001b[39msum\u001b[39m(x) \u001b[39mfor\u001b[39;00m x \u001b[39min\u001b[39;00m \u001b[39mzip\u001b[39m(value[\u001b[39m0\u001b[39;49m][:\u001b[39m2\u001b[39;49m], coord)) \u001b[39m# check a sum of coord\u001b[39;00m\n\u001b[0;32m     21\u001b[0m         \u001b[39mif\u001b[39;00m minefield[check_mine[\u001b[39m0\u001b[39m], check_mine[\u001b[39m1\u001b[39m]] \u001b[39m==\u001b[39m \u001b[39m'\u001b[39m\u001b[39m*\u001b[39m\u001b[39m'\u001b[39m: \u001b[39m# if it's a bomb\u001b[39;00m\n\u001b[0;32m     22\u001b[0m             nr_bombs \u001b[39m+\u001b[39m\u001b[39m=\u001b[39m \u001b[39m1\u001b[39m \u001b[39m# increase nr of bombs adjacent\u001b[39;00m\n",
      "\u001b[1;31mTypeError\u001b[0m: 'int' object is not subscriptable"
     ]
    }
   ],
   "source": [
    "annotate([\"***\", \"* *\", \"***\"])"
   ]
  },
  {
   "cell_type": "code",
   "execution_count": 21,
   "id": "c179ea6d-06a1-4d0f-b0bf-64346fba059f",
   "metadata": {},
   "outputs": [],
   "source": [
    "COORDS = [(1, 0), # right \n",
    "          (1, -1), # diagonal right down\n",
    "          (0, 1), # down\n",
    "          (-1, 1), # diagonal left down\n",
    "          (-1, 0), # left\n",
    "          (-1, 1), # diagonal left up\n",
    "          (0, 1), # up\n",
    "          (1, 1)] # diagonal right up\n",
    "\n",
    "def annotate(minefield) -> str:\n",
    "    \n",
    "    values = [(int(x), int(y), minefield[x][y])\n",
    "              for x in range(len(minefield))\n",
    "              for y in range(len(minefield[0]))]\n",
    "\n",
    "    for value in values:\n",
    "        nr_bombs = 0\n",
    "        if value[2] == ' ': # is an empty space in the board\n",
    "            for coord in COORDS:\n",
    "                check_mine = tuple(sum(x) for x in zip(value[0][:2], coord)) # check a sum of coord\n",
    "                if minefield[check_mine[0], check_mine[1]] == '*': # if it's a bomb\n",
    "                    nr_bombs += 1 # increase nr of bombs adjacent\n",
    "\n",
    "            # change on the board\n",
    "            minefield[value[0], value[1]] = str(nr_bombs)\n",
    "\n",
    "    return minefield"
   ]
  },
  {
   "cell_type": "code",
   "execution_count": 22,
   "metadata": {},
   "outputs": [
    {
     "ename": "TypeError",
     "evalue": "'int' object is not subscriptable",
     "output_type": "error",
     "traceback": [
      "\u001b[1;31m---------------------------------------------------------------------------\u001b[0m",
      "\u001b[1;31mTypeError\u001b[0m                                 Traceback (most recent call last)",
      "Cell \u001b[1;32mIn[22], line 1\u001b[0m\n\u001b[1;32m----> 1\u001b[0m annotate([\u001b[39m\"\u001b[39;49m\u001b[39m***\u001b[39;49m\u001b[39m\"\u001b[39;49m, \u001b[39m\"\u001b[39;49m\u001b[39m* *\u001b[39;49m\u001b[39m\"\u001b[39;49m, \u001b[39m\"\u001b[39;49m\u001b[39m***\u001b[39;49m\u001b[39m\"\u001b[39;49m])\n",
      "File \u001b[1;32mf:\\Code\\Exercism\\python\\minesweeper\\minesweeper.py:20\u001b[0m\n\u001b[0;32m     18\u001b[0m \u001b[39mif\u001b[39;00m value[\u001b[39m2\u001b[39m] \u001b[39m==\u001b[39m \u001b[39m'\u001b[39m\u001b[39m \u001b[39m\u001b[39m'\u001b[39m: \u001b[39m# is an empty space in the board\u001b[39;00m\n\u001b[0;32m     19\u001b[0m     \u001b[39mfor\u001b[39;00m coord \u001b[39min\u001b[39;00m COORDS:\n\u001b[1;32m---> 20\u001b[0m         check_mine \u001b[39m=\u001b[39m \u001b[39mtuple\u001b[39m(\u001b[39msum\u001b[39m(x) \u001b[39mfor\u001b[39;00m x \u001b[39min\u001b[39;00m \u001b[39mzip\u001b[39m(value[\u001b[39m0\u001b[39;49m][:\u001b[39m2\u001b[39;49m], coord)) \u001b[39m# check a sum of coord\u001b[39;00m\n\u001b[0;32m     21\u001b[0m         \u001b[39mif\u001b[39;00m minefield[check_mine[\u001b[39m0\u001b[39m], check_mine[\u001b[39m1\u001b[39m]] \u001b[39m==\u001b[39m \u001b[39m'\u001b[39m\u001b[39m*\u001b[39m\u001b[39m'\u001b[39m: \u001b[39m# if it's a bomb\u001b[39;00m\n\u001b[0;32m     22\u001b[0m             nr_bombs \u001b[39m+\u001b[39m\u001b[39m=\u001b[39m \u001b[39m1\u001b[39m \u001b[39m# increase nr of bombs adjacent\u001b[39;00m\n",
      "\u001b[1;31mTypeError\u001b[0m: 'int' object is not subscriptable"
     ]
    }
   ],
   "source": [
    "annotate([\"***\", \"* *\", \"***\"])"
   ]
  },
  {
   "cell_type": "code",
   "execution_count": 23,
   "id": "7727da42-874a-4b3b-bc1d-c9d2e0ab767b",
   "metadata": {},
   "outputs": [],
   "source": [
    "COORDS = [(1, 0), # right \n",
    "          (1, -1), # diagonal right down\n",
    "          (0, 1), # down\n",
    "          (-1, 1), # diagonal left down\n",
    "          (-1, 0), # left\n",
    "          (-1, 1), # diagonal left up\n",
    "          (0, 1), # up\n",
    "          (1, 1)] # diagonal right up\n",
    "\n",
    "def annotate(minefield) -> str:\n",
    "    \n",
    "    values = [(x, y, minefield[x][y])\n",
    "              for x in range(len(minefield))\n",
    "              for y in range(len(minefield[0]))]\n",
    "\n",
    "    for value in values:\n",
    "        nr_bombs = 0\n",
    "        if value[2] == ' ': # is an empty space in the board\n",
    "            for coord in COORDS:\n",
    "                check_mine = tuple(sum(x) for x in zip(value[0][:2], coord)) # check a sum of coord\n",
    "                print(check_mine)\n",
    "                if minefield[check_mine[0], check_mine[1]] == '*': # if it's a bomb\n",
    "                    nr_bombs += 1 # increase nr of bombs adjacent\n",
    "\n",
    "            # change on the board\n",
    "            minefield[value[0], value[1]] = str(nr_bombs)\n",
    "\n",
    "    return minefield"
   ]
  },
  {
   "cell_type": "code",
   "execution_count": 24,
   "metadata": {},
   "outputs": [
    {
     "ename": "TypeError",
     "evalue": "'int' object is not subscriptable",
     "output_type": "error",
     "traceback": [
      "\u001b[1;31m---------------------------------------------------------------------------\u001b[0m",
      "\u001b[1;31mTypeError\u001b[0m                                 Traceback (most recent call last)",
      "Cell \u001b[1;32mIn[24], line 1\u001b[0m\n\u001b[1;32m----> 1\u001b[0m annotate([\u001b[39m\"\u001b[39;49m\u001b[39m***\u001b[39;49m\u001b[39m\"\u001b[39;49m, \u001b[39m\"\u001b[39;49m\u001b[39m* *\u001b[39;49m\u001b[39m\"\u001b[39;49m, \u001b[39m\"\u001b[39;49m\u001b[39m***\u001b[39;49m\u001b[39m\"\u001b[39;49m])\n",
      "File \u001b[1;32mf:\\Code\\Exercism\\python\\minesweeper\\minesweeper.py:20\u001b[0m\n\u001b[0;32m     18\u001b[0m \u001b[39mif\u001b[39;00m value[\u001b[39m2\u001b[39m] \u001b[39m==\u001b[39m \u001b[39m'\u001b[39m\u001b[39m \u001b[39m\u001b[39m'\u001b[39m: \u001b[39m# is an empty space in the board\u001b[39;00m\n\u001b[0;32m     19\u001b[0m     \u001b[39mfor\u001b[39;00m coord \u001b[39min\u001b[39;00m COORDS:\n\u001b[1;32m---> 20\u001b[0m         check_mine \u001b[39m=\u001b[39m \u001b[39mtuple\u001b[39m(\u001b[39msum\u001b[39m(x) \u001b[39mfor\u001b[39;00m x \u001b[39min\u001b[39;00m \u001b[39mzip\u001b[39m(value[\u001b[39m0\u001b[39;49m][:\u001b[39m2\u001b[39;49m], coord)) \u001b[39m# check a sum of coord\u001b[39;00m\n\u001b[0;32m     21\u001b[0m         \u001b[39mprint\u001b[39m(check_mine)\n\u001b[0;32m     22\u001b[0m         \u001b[39mif\u001b[39;00m minefield[check_mine[\u001b[39m0\u001b[39m], check_mine[\u001b[39m1\u001b[39m]] \u001b[39m==\u001b[39m \u001b[39m'\u001b[39m\u001b[39m*\u001b[39m\u001b[39m'\u001b[39m: \u001b[39m# if it's a bomb\u001b[39;00m\n",
      "\u001b[1;31mTypeError\u001b[0m: 'int' object is not subscriptable"
     ]
    }
   ],
   "source": [
    "annotate([\"***\", \"* *\", \"***\"])"
   ]
  },
  {
   "cell_type": "code",
   "execution_count": 25,
   "id": "8577ab51-5bfd-4587-af18-4b2fccae2ec1",
   "metadata": {},
   "outputs": [],
   "source": [
    "COORDS = [(1, 0), # right \n",
    "          (1, -1), # diagonal right down\n",
    "          (0, 1), # down\n",
    "          (-1, 1), # diagonal left down\n",
    "          (-1, 0), # left\n",
    "          (-1, 1), # diagonal left up\n",
    "          (0, 1), # up\n",
    "          (1, 1)] # diagonal right up\n",
    "\n",
    "def annotate(minefield) -> str:\n",
    "    \n",
    "    values = [(x, y, minefield[x][y])\n",
    "              for x in range(len(minefield))\n",
    "              for y in range(len(minefield[0]))]\n",
    "\n",
    "    for value in values:\n",
    "        nr_bombs = 0\n",
    "        if value[2] == ' ': # is an empty space in the board\n",
    "            for coord in COORDS:\n",
    "                print(coord)\n",
    "                print(value[:2])\n",
    "                check_mine = tuple(sum(x) for x in zip(value[:2], coord)) # check a sum of coord\n",
    "                \n",
    "                if minefield[check_mine[0], check_mine[1]] == '*': # if it's a bomb\n",
    "                    nr_bombs += 1 # increase nr of bombs adjacent\n",
    "\n",
    "            # change on the board\n",
    "            minefield[value[0], value[1]] = str(nr_bombs)\n",
    "\n",
    "    return minefield"
   ]
  },
  {
   "cell_type": "code",
   "execution_count": 26,
   "metadata": {},
   "outputs": [
    {
     "name": "stdout",
     "output_type": "stream",
     "text": [
      "(1, 0)\n",
      "(1, 1)\n"
     ]
    },
    {
     "ename": "TypeError",
     "evalue": "list indices must be integers or slices, not tuple",
     "output_type": "error",
     "traceback": [
      "\u001b[1;31m---------------------------------------------------------------------------\u001b[0m",
      "\u001b[1;31mTypeError\u001b[0m                                 Traceback (most recent call last)",
      "Cell \u001b[1;32mIn[26], line 1\u001b[0m\n\u001b[1;32m----> 1\u001b[0m annotate([\u001b[39m\"\u001b[39;49m\u001b[39m***\u001b[39;49m\u001b[39m\"\u001b[39;49m, \u001b[39m\"\u001b[39;49m\u001b[39m* *\u001b[39;49m\u001b[39m\"\u001b[39;49m, \u001b[39m\"\u001b[39;49m\u001b[39m***\u001b[39;49m\u001b[39m\"\u001b[39;49m])\n",
      "File \u001b[1;32mf:\\Code\\Exercism\\python\\minesweeper\\minesweeper.py:24\u001b[0m\n\u001b[0;32m     21\u001b[0m     \u001b[39mprint\u001b[39m(value[:\u001b[39m2\u001b[39m])\n\u001b[0;32m     22\u001b[0m     check_mine \u001b[39m=\u001b[39m \u001b[39mtuple\u001b[39m(\u001b[39msum\u001b[39m(x) \u001b[39mfor\u001b[39;00m x \u001b[39min\u001b[39;00m \u001b[39mzip\u001b[39m(value[:\u001b[39m2\u001b[39m], coord)) \u001b[39m# check a sum of coord\u001b[39;00m\n\u001b[1;32m---> 24\u001b[0m     \u001b[39mif\u001b[39;00m minefield[check_mine[\u001b[39m0\u001b[39;49m], check_mine[\u001b[39m1\u001b[39;49m]] \u001b[39m==\u001b[39m \u001b[39m'\u001b[39m\u001b[39m*\u001b[39m\u001b[39m'\u001b[39m: \u001b[39m# if it's a bomb\u001b[39;00m\n\u001b[0;32m     25\u001b[0m         nr_bombs \u001b[39m+\u001b[39m\u001b[39m=\u001b[39m \u001b[39m1\u001b[39m \u001b[39m# increase nr of bombs adjacent\u001b[39;00m\n\u001b[0;32m     27\u001b[0m \u001b[39m# change on the board\u001b[39;00m\n",
      "\u001b[1;31mTypeError\u001b[0m: list indices must be integers or slices, not tuple"
     ]
    }
   ],
   "source": [
    "annotate([\"***\", \"* *\", \"***\"])"
   ]
  },
  {
   "cell_type": "code",
   "execution_count": 27,
   "id": "5145ef1c-4a13-4800-9927-1e4ef67f5bba",
   "metadata": {},
   "outputs": [],
   "source": [
    "COORDS = [(1, 0), # right \n",
    "          (1, -1), # diagonal right down\n",
    "          (0, 1), # down\n",
    "          (-1, 1), # diagonal left down\n",
    "          (-1, 0), # left\n",
    "          (-1, 1), # diagonal left up\n",
    "          (0, 1), # up\n",
    "          (1, 1)] # diagonal right up\n",
    "\n",
    "def annotate(minefield) -> str:\n",
    "    \n",
    "    values = [(x, y, minefield[x][y])\n",
    "              for x in range(len(minefield))\n",
    "              for y in range(len(minefield[0]))]\n",
    "\n",
    "    for value in values:\n",
    "        nr_bombs = 0\n",
    "        if value[2] == ' ': # is an empty space in the board\n",
    "            for coord in COORDS:\n",
    "                print(coord)\n",
    "                print(value[:2])\n",
    "                check_mine = tuple(sum(x) for x in zip(value[:2], coord)) # check a sum of coord\n",
    "                print(check_mine)\n",
    "                \n",
    "                if minefield[check_mine[0], check_mine[1]] == '*': # if it's a bomb\n",
    "                    nr_bombs += 1 # increase nr of bombs adjacent\n",
    "\n",
    "            # change on the board\n",
    "            minefield[value[0], value[1]] = str(nr_bombs)\n",
    "\n",
    "    return minefield"
   ]
  },
  {
   "cell_type": "code",
   "execution_count": 28,
   "metadata": {},
   "outputs": [
    {
     "name": "stdout",
     "output_type": "stream",
     "text": [
      "(1, 0)\n",
      "(1, 1)\n",
      "(2, 1)\n"
     ]
    },
    {
     "ename": "TypeError",
     "evalue": "list indices must be integers or slices, not tuple",
     "output_type": "error",
     "traceback": [
      "\u001b[1;31m---------------------------------------------------------------------------\u001b[0m",
      "\u001b[1;31mTypeError\u001b[0m                                 Traceback (most recent call last)",
      "Cell \u001b[1;32mIn[28], line 1\u001b[0m\n\u001b[1;32m----> 1\u001b[0m annotate([\u001b[39m\"\u001b[39;49m\u001b[39m***\u001b[39;49m\u001b[39m\"\u001b[39;49m, \u001b[39m\"\u001b[39;49m\u001b[39m* *\u001b[39;49m\u001b[39m\"\u001b[39;49m, \u001b[39m\"\u001b[39;49m\u001b[39m***\u001b[39;49m\u001b[39m\"\u001b[39;49m])\n",
      "File \u001b[1;32mf:\\Code\\Exercism\\python\\minesweeper\\minesweeper.py:25\u001b[0m\n\u001b[0;32m     22\u001b[0m     check_mine \u001b[39m=\u001b[39m \u001b[39mtuple\u001b[39m(\u001b[39msum\u001b[39m(x) \u001b[39mfor\u001b[39;00m x \u001b[39min\u001b[39;00m \u001b[39mzip\u001b[39m(value[:\u001b[39m2\u001b[39m], coord)) \u001b[39m# check a sum of coord\u001b[39;00m\n\u001b[0;32m     23\u001b[0m     \u001b[39mprint\u001b[39m(check_mine)\n\u001b[1;32m---> 25\u001b[0m     \u001b[39mif\u001b[39;00m minefield[check_mine[\u001b[39m0\u001b[39;49m], check_mine[\u001b[39m1\u001b[39;49m]] \u001b[39m==\u001b[39m \u001b[39m'\u001b[39m\u001b[39m*\u001b[39m\u001b[39m'\u001b[39m: \u001b[39m# if it's a bomb\u001b[39;00m\n\u001b[0;32m     26\u001b[0m         nr_bombs \u001b[39m+\u001b[39m\u001b[39m=\u001b[39m \u001b[39m1\u001b[39m \u001b[39m# increase nr of bombs adjacent\u001b[39;00m\n\u001b[0;32m     28\u001b[0m \u001b[39m# change on the board\u001b[39;00m\n",
      "\u001b[1;31mTypeError\u001b[0m: list indices must be integers or slices, not tuple"
     ]
    }
   ],
   "source": [
    "annotate([\"***\", \"* *\", \"***\"])"
   ]
  },
  {
   "cell_type": "code",
   "execution_count": 29,
   "id": "4484c9ed-671c-4851-ad5a-978dd0cc467e",
   "metadata": {},
   "outputs": [],
   "source": [
    "COORDS = [(1, 0), # right \n",
    "          (1, -1), # diagonal right down\n",
    "          (0, 1), # down\n",
    "          (-1, 1), # diagonal left down\n",
    "          (-1, 0), # left\n",
    "          (-1, 1), # diagonal left up\n",
    "          (0, 1), # up\n",
    "          (1, 1)] # diagonal right up\n",
    "\n",
    "def annotate(minefield) -> str:\n",
    "    \n",
    "    values = [(x, y, minefield[x][y])\n",
    "              for x in range(len(minefield))\n",
    "              for y in range(len(minefield[0]))]\n",
    "\n",
    "    for value in values:\n",
    "        nr_bombs = 0\n",
    "        if value[2] == ' ': # is an empty space in the board\n",
    "            for coord in COORDS:\n",
    "                print(coord)\n",
    "                print(value[:2])\n",
    "                check_mine = tuple(sum(x) for x in zip(value[:2], coord)) # check a sum of coord\n",
    "                print(check_mine)\n",
    "                \n",
    "                if minefield[check_mine[0]][check_mine[1]] == '*': # if it's a bomb\n",
    "                    nr_bombs += 1 # increase nr of bombs adjacent\n",
    "\n",
    "            # change on the board\n",
    "            minefield[value[0], value[1]] = str(nr_bombs)\n",
    "\n",
    "    return minefield"
   ]
  },
  {
   "cell_type": "code",
   "execution_count": 30,
   "metadata": {},
   "outputs": [
    {
     "name": "stdout",
     "output_type": "stream",
     "text": [
      "(1, 0)\n",
      "(1, 1)\n",
      "(2, 1)\n",
      "(1, -1)\n",
      "(1, 1)\n",
      "(2, 0)\n",
      "(0, 1)\n",
      "(1, 1)\n",
      "(1, 2)\n",
      "(-1, 1)\n",
      "(1, 1)\n",
      "(0, 2)\n",
      "(-1, 0)\n",
      "(1, 1)\n",
      "(0, 1)\n",
      "(-1, 1)\n",
      "(1, 1)\n",
      "(0, 2)\n",
      "(0, 1)\n",
      "(1, 1)\n",
      "(1, 2)\n",
      "(1, 1)\n",
      "(1, 1)\n",
      "(2, 2)\n"
     ]
    },
    {
     "ename": "TypeError",
     "evalue": "list indices must be integers or slices, not tuple",
     "output_type": "error",
     "traceback": [
      "\u001b[1;31m---------------------------------------------------------------------------\u001b[0m",
      "\u001b[1;31mTypeError\u001b[0m                                 Traceback (most recent call last)",
      "Cell \u001b[1;32mIn[30], line 1\u001b[0m\n\u001b[1;32m----> 1\u001b[0m annotate([\u001b[39m\"\u001b[39;49m\u001b[39m***\u001b[39;49m\u001b[39m\"\u001b[39;49m, \u001b[39m\"\u001b[39;49m\u001b[39m* *\u001b[39;49m\u001b[39m\"\u001b[39;49m, \u001b[39m\"\u001b[39;49m\u001b[39m***\u001b[39;49m\u001b[39m\"\u001b[39;49m])\n",
      "File \u001b[1;32mf:\\Code\\Exercism\\python\\minesweeper\\minesweeper.py:29\u001b[0m\n\u001b[0;32m     26\u001b[0m                 nr_bombs \u001b[39m+\u001b[39m\u001b[39m=\u001b[39m \u001b[39m1\u001b[39m \u001b[39m# increase nr of bombs adjacent\u001b[39;00m\n\u001b[0;32m     28\u001b[0m         \u001b[39m# change on the board\u001b[39;00m\n\u001b[1;32m---> 29\u001b[0m         minefield[value[\u001b[39m0\u001b[39;49m], value[\u001b[39m1\u001b[39;49m]] \u001b[39m=\u001b[39m \u001b[39mstr\u001b[39m(nr_bombs)\n\u001b[0;32m     31\u001b[0m \u001b[39mreturn\u001b[39;00m minefield\n",
      "\u001b[1;31mTypeError\u001b[0m: list indices must be integers or slices, not tuple"
     ]
    }
   ],
   "source": [
    "annotate([\"***\", \"* *\", \"***\"])"
   ]
  },
  {
   "cell_type": "code",
   "execution_count": 31,
   "id": "5d07cec0-209c-46d6-9750-9aa9522a80b2",
   "metadata": {},
   "outputs": [],
   "source": [
    "COORDS = [(1, 0), # right \n",
    "          (1, -1), # diagonal right down\n",
    "          (0, 1), # down\n",
    "          (-1, 1), # diagonal left down\n",
    "          (-1, 0), # left\n",
    "          (-1, 1), # diagonal left up\n",
    "          (0, 1), # up\n",
    "          (1, 1)] # diagonal right up\n",
    "\n",
    "def annotate(minefield) -> str:\n",
    "    \n",
    "    values = [(x, y, minefield[x][y])\n",
    "              for x in range(len(minefield))\n",
    "              for y in range(len(minefield[0]))]\n",
    "\n",
    "    for value in values:\n",
    "        nr_bombs = 0\n",
    "        if value[2] == ' ': # is an empty space in the board\n",
    "            for coord in COORDS:\n",
    "                print(coord)\n",
    "                print(value[:2])\n",
    "                check_mine = tuple(sum(x) for x in zip(value[:2], coord)) # check a sum of coord\n",
    "                print(check_mine)\n",
    "                \n",
    "                if minefield[check_mine[0]][check_mine[1]] == '*': # if it's a bomb\n",
    "                    nr_bombs += 1 # increase nr of bombs adjacent\n",
    "\n",
    "            # change on the board\n",
    "            minefield[value[0]][value[1]] = str(nr_bombs)\n",
    "\n",
    "    return minefield"
   ]
  },
  {
   "cell_type": "code",
   "execution_count": 32,
   "metadata": {},
   "outputs": [
    {
     "name": "stdout",
     "output_type": "stream",
     "text": [
      "(1, 0)\n",
      "(1, 1)\n",
      "(2, 1)\n",
      "(1, -1)\n",
      "(1, 1)\n",
      "(2, 0)\n",
      "(0, 1)\n",
      "(1, 1)\n",
      "(1, 2)\n",
      "(-1, 1)\n",
      "(1, 1)\n",
      "(0, 2)\n",
      "(-1, 0)\n",
      "(1, 1)\n",
      "(0, 1)\n",
      "(-1, 1)\n",
      "(1, 1)\n",
      "(0, 2)\n",
      "(0, 1)\n",
      "(1, 1)\n",
      "(1, 2)\n",
      "(1, 1)\n",
      "(1, 1)\n",
      "(2, 2)\n"
     ]
    },
    {
     "ename": "TypeError",
     "evalue": "'str' object does not support item assignment",
     "output_type": "error",
     "traceback": [
      "\u001b[1;31m---------------------------------------------------------------------------\u001b[0m",
      "\u001b[1;31mTypeError\u001b[0m                                 Traceback (most recent call last)",
      "Cell \u001b[1;32mIn[32], line 1\u001b[0m\n\u001b[1;32m----> 1\u001b[0m annotate([\u001b[39m\"\u001b[39;49m\u001b[39m***\u001b[39;49m\u001b[39m\"\u001b[39;49m, \u001b[39m\"\u001b[39;49m\u001b[39m* *\u001b[39;49m\u001b[39m\"\u001b[39;49m, \u001b[39m\"\u001b[39;49m\u001b[39m***\u001b[39;49m\u001b[39m\"\u001b[39;49m])\n",
      "File \u001b[1;32mf:\\Code\\Exercism\\python\\minesweeper\\minesweeper.py:29\u001b[0m\n\u001b[0;32m     26\u001b[0m                 nr_bombs \u001b[39m+\u001b[39m\u001b[39m=\u001b[39m \u001b[39m1\u001b[39m \u001b[39m# increase nr of bombs adjacent\u001b[39;00m\n\u001b[0;32m     28\u001b[0m         \u001b[39m# change on the board\u001b[39;00m\n\u001b[1;32m---> 29\u001b[0m         minefield[value[\u001b[39m0\u001b[39;49m]][value[\u001b[39m1\u001b[39;49m]] \u001b[39m=\u001b[39m \u001b[39mstr\u001b[39m(nr_bombs)\n\u001b[0;32m     31\u001b[0m \u001b[39mreturn\u001b[39;00m minefield\n",
      "\u001b[1;31mTypeError\u001b[0m: 'str' object does not support item assignment"
     ]
    }
   ],
   "source": [
    "annotate([\"***\", \"* *\", \"***\"])"
   ]
  },
  {
   "cell_type": "code",
   "execution_count": 33,
   "id": "62788be7-6e94-409a-a92a-ff39d3b5abf9",
   "metadata": {},
   "outputs": [],
   "source": [
    "COORDS = [(1, 0), # right \n",
    "          (1, -1), # diagonal right down\n",
    "          (0, 1), # down\n",
    "          (-1, 1), # diagonal left down\n",
    "          (-1, 0), # left\n",
    "          (-1, 1), # diagonal left up\n",
    "          (0, 1), # up\n",
    "          (1, 1)] # diagonal right up\n",
    "\n",
    "def annotate(minefield) -> list:\n",
    "    \n",
    "    values = [(x, y, minefield[x][y])\n",
    "              for x in range(len(minefield))\n",
    "              for y in range(len(minefield[0]))]\n",
    "\n",
    "    for value in values:\n",
    "        nr_bombs = 0\n",
    "        if value[2] == ' ': # is an empty space in the board\n",
    "            for coord in COORDS:\n",
    "                check_mine = tuple(sum(x) for x in zip(value[:2], coord)) # check a sum of coord\n",
    "                \n",
    "                if minefield[check_mine[0]][check_mine[1]] == '*': # if it's a bomb\n",
    "                    nr_bombs += 1 # increase nr of bombs adjacent\n",
    "\n",
    "            # change on the board\n",
    "            minefield[value[0]][value[1]] = str(nr_bombs)\n",
    "\n",
    "    return minefield"
   ]
  },
  {
   "cell_type": "code",
   "execution_count": 34,
   "metadata": {},
   "outputs": [
    {
     "ename": "TypeError",
     "evalue": "'str' object does not support item assignment",
     "output_type": "error",
     "traceback": [
      "\u001b[1;31m---------------------------------------------------------------------------\u001b[0m",
      "\u001b[1;31mTypeError\u001b[0m                                 Traceback (most recent call last)",
      "Cell \u001b[1;32mIn[34], line 1\u001b[0m\n\u001b[1;32m----> 1\u001b[0m annotate([\u001b[39m\"\u001b[39;49m\u001b[39m***\u001b[39;49m\u001b[39m\"\u001b[39;49m, \u001b[39m\"\u001b[39;49m\u001b[39m* *\u001b[39;49m\u001b[39m\"\u001b[39;49m, \u001b[39m\"\u001b[39;49m\u001b[39m***\u001b[39;49m\u001b[39m\"\u001b[39;49m])\n",
      "File \u001b[1;32mf:\\Code\\Exercism\\python\\minesweeper\\minesweeper.py:26\u001b[0m\n\u001b[0;32m     23\u001b[0m                 nr_bombs \u001b[39m+\u001b[39m\u001b[39m=\u001b[39m \u001b[39m1\u001b[39m \u001b[39m# increase nr of bombs adjacent\u001b[39;00m\n\u001b[0;32m     25\u001b[0m         \u001b[39m# change on the board\u001b[39;00m\n\u001b[1;32m---> 26\u001b[0m         minefield[value[\u001b[39m0\u001b[39;49m]][value[\u001b[39m1\u001b[39;49m]] \u001b[39m=\u001b[39m \u001b[39mstr\u001b[39m(nr_bombs)\n\u001b[0;32m     28\u001b[0m \u001b[39mreturn\u001b[39;00m minefield\n",
      "\u001b[1;31mTypeError\u001b[0m: 'str' object does not support item assignment"
     ]
    }
   ],
   "source": [
    "annotate([\"***\", \"* *\", \"***\"])"
   ]
  },
  {
   "cell_type": "code",
   "execution_count": 35,
   "id": "ff655057-d3cc-4b2d-bd69-c59de8d83469",
   "metadata": {},
   "outputs": [],
   "source": [
    "COORDS = [(1, 0), # right \n",
    "          (1, -1), # diagonal right down\n",
    "          (0, 1), # down\n",
    "          (-1, 1), # diagonal left down\n",
    "          (-1, 0), # left\n",
    "          (-1, 1), # diagonal left up\n",
    "          (0, 1), # up\n",
    "          (1, 1)] # diagonal right up\n",
    "\n",
    "def annotate(minefield) -> list:\n",
    "    \n",
    "    values = [(x, y, minefield[x][y])\n",
    "              for x in range(len(minefield))\n",
    "              for y in range(len(minefield[0]))]\n",
    "\n",
    "    for value in values:\n",
    "        nr_bombs = 0\n",
    "        if value[2] == ' ': # is an empty space in the board\n",
    "            for coord in COORDS:\n",
    "                check_mine = tuple(sum(x) for x in zip(value[:2], coord)) # check a sum of coord\n",
    "                \n",
    "                if minefield[check_mine[0]][check_mine[1]] == '*': # if it's a bomb\n",
    "                    nr_bombs += 1 # increase nr of bombs adjacent\n",
    "\n",
    "            # change on the board\n",
    "            row = list(minefield[value[0]])\n",
    "            row[value[1]] = str(nr_bombs)\n",
    "            minefield[value[0]] = \"\".join(row)\n",
    "\n",
    "    return minefield"
   ]
  },
  {
   "cell_type": "code",
   "execution_count": 36,
   "metadata": {},
   "outputs": [
    {
     "data": {
      "text/plain": [
       "['***', '*8*', '***']"
      ]
     },
     "execution_count": 36,
     "metadata": {},
     "output_type": "execute_result"
    }
   ],
   "source": [
    "annotate([\"***\", \"* *\", \"***\"])"
   ]
  },
  {
   "cell_type": "code",
   "execution_count": 37,
   "metadata": {},
   "outputs": [
    {
     "ename": "SyntaxError",
     "evalue": "incomplete input (<ipython-input-37-148bab642cd2>, line 1)",
     "output_type": "error",
     "traceback": [
      "\u001b[1;36m  Cell \u001b[1;32mIn[37], line 1\u001b[1;36m\u001b[0m\n\u001b[1;33m    annotate([\"   \", \" * \", \"   \"]\u001b[0m\n\u001b[1;37m                                  ^\u001b[0m\n\u001b[1;31mSyntaxError\u001b[0m\u001b[1;31m:\u001b[0m incomplete input\n"
     ]
    }
   ],
   "source": [
    "annotate([\"   \", \" * \", \"   \"]"
   ]
  },
  {
   "cell_type": "code",
   "execution_count": 38,
   "metadata": {},
   "outputs": [
    {
     "ename": "IndexError",
     "evalue": "string index out of range",
     "output_type": "error",
     "traceback": [
      "\u001b[1;31m---------------------------------------------------------------------------\u001b[0m",
      "\u001b[1;31mIndexError\u001b[0m                                Traceback (most recent call last)",
      "Cell \u001b[1;32mIn[38], line 1\u001b[0m\n\u001b[1;32m----> 1\u001b[0m annotate([\u001b[39m\"\u001b[39;49m\u001b[39m   \u001b[39;49m\u001b[39m\"\u001b[39;49m, \u001b[39m\"\u001b[39;49m\u001b[39m * \u001b[39;49m\u001b[39m\"\u001b[39;49m, \u001b[39m\"\u001b[39;49m\u001b[39m   \u001b[39;49m\u001b[39m\"\u001b[39;49m])\n",
      "Cell \u001b[1;32mIn[35], line 22\u001b[0m, in \u001b[0;36mannotate\u001b[1;34m(minefield)\u001b[0m\n\u001b[0;32m     19\u001b[0m \u001b[39mfor\u001b[39;00m coord \u001b[39min\u001b[39;00m COORDS:\n\u001b[0;32m     20\u001b[0m     check_mine \u001b[39m=\u001b[39m \u001b[39mtuple\u001b[39m(\u001b[39msum\u001b[39m(x) \u001b[39mfor\u001b[39;00m x \u001b[39min\u001b[39;00m \u001b[39mzip\u001b[39m(value[:\u001b[39m2\u001b[39m], coord)) \u001b[39m# check a sum of coord\u001b[39;00m\n\u001b[1;32m---> 22\u001b[0m     \u001b[39mif\u001b[39;00m minefield[check_mine[\u001b[39m0\u001b[39;49m]][check_mine[\u001b[39m1\u001b[39;49m]] \u001b[39m==\u001b[39m \u001b[39m'\u001b[39m\u001b[39m*\u001b[39m\u001b[39m'\u001b[39m: \u001b[39m# if it's a bomb\u001b[39;00m\n\u001b[0;32m     23\u001b[0m         nr_bombs \u001b[39m+\u001b[39m\u001b[39m=\u001b[39m \u001b[39m1\u001b[39m \u001b[39m# increase nr of bombs adjacent\u001b[39;00m\n\u001b[0;32m     25\u001b[0m \u001b[39m# change on the board\u001b[39;00m\n",
      "\u001b[1;31mIndexError\u001b[0m: string index out of range"
     ]
    }
   ],
   "source": [
    "annotate([\"   \", \" * \", \"   \"])"
   ]
  },
  {
   "cell_type": "code",
   "execution_count": 39,
   "metadata": {},
   "outputs": [
    {
     "data": {
      "text/plain": [
       "['***', '***', '***']"
      ]
     },
     "execution_count": 39,
     "metadata": {},
     "output_type": "execute_result"
    }
   ],
   "source": [
    "annotate([\"***\", \"***\", \"***\"])"
   ]
  },
  {
   "cell_type": "code",
   "execution_count": 40,
   "metadata": {},
   "outputs": [
    {
     "ename": "IndexError",
     "evalue": "list index out of range",
     "output_type": "error",
     "traceback": [
      "\u001b[1;31m---------------------------------------------------------------------------\u001b[0m",
      "\u001b[1;31mIndexError\u001b[0m                                Traceback (most recent call last)",
      "Cell \u001b[1;32mIn[40], line 1\u001b[0m\n\u001b[1;32m----> 1\u001b[0m annotate([\u001b[39m\"\u001b[39;49m\u001b[39m * * \u001b[39;49m\u001b[39m\"\u001b[39;49m])\n",
      "Cell \u001b[1;32mIn[35], line 22\u001b[0m, in \u001b[0;36mannotate\u001b[1;34m(minefield)\u001b[0m\n\u001b[0;32m     19\u001b[0m \u001b[39mfor\u001b[39;00m coord \u001b[39min\u001b[39;00m COORDS:\n\u001b[0;32m     20\u001b[0m     check_mine \u001b[39m=\u001b[39m \u001b[39mtuple\u001b[39m(\u001b[39msum\u001b[39m(x) \u001b[39mfor\u001b[39;00m x \u001b[39min\u001b[39;00m \u001b[39mzip\u001b[39m(value[:\u001b[39m2\u001b[39m], coord)) \u001b[39m# check a sum of coord\u001b[39;00m\n\u001b[1;32m---> 22\u001b[0m     \u001b[39mif\u001b[39;00m minefield[check_mine[\u001b[39m0\u001b[39;49m]][check_mine[\u001b[39m1\u001b[39m]] \u001b[39m==\u001b[39m \u001b[39m'\u001b[39m\u001b[39m*\u001b[39m\u001b[39m'\u001b[39m: \u001b[39m# if it's a bomb\u001b[39;00m\n\u001b[0;32m     23\u001b[0m         nr_bombs \u001b[39m+\u001b[39m\u001b[39m=\u001b[39m \u001b[39m1\u001b[39m \u001b[39m# increase nr of bombs adjacent\u001b[39;00m\n\u001b[0;32m     25\u001b[0m \u001b[39m# change on the board\u001b[39;00m\n",
      "\u001b[1;31mIndexError\u001b[0m: list index out of range"
     ]
    }
   ],
   "source": [
    "annotate([\" * * \"])"
   ]
  },
  {
   "cell_type": "code",
   "execution_count": 41,
   "id": "95cf1e8e-67a8-40e6-a164-a44b17228364",
   "metadata": {},
   "outputs": [],
   "source": [
    "COORDS = [(1, 0), # right \n",
    "          (1, -1), # diagonal right down\n",
    "          (0, 1), # down\n",
    "          (-1, 1), # diagonal left down\n",
    "          (-1, 0), # left\n",
    "          (-1, 1), # diagonal left up\n",
    "          (0, 1), # up\n",
    "          (1, 1)] # diagonal right up\n",
    "\n",
    "def annotate(minefield) -> list:\n",
    "    \n",
    "    values = [(x, y, minefield[x][y])\n",
    "              for x in range(len(minefield))\n",
    "              for y in range(len(minefield[0]))]\n",
    "\n",
    "    for value in values:\n",
    "        nr_bombs = 0\n",
    "        if value[2] == ' ': # is an empty space in the board\n",
    "            for coord in COORDS:\n",
    "                check_mine = tuple(sum(x) for x in zip(value[:2], coord)) # check a sum of coord\n",
    "                print(f'Checking for bomb at {check_mine}')\n",
    "                if minefield[check_mine[0]][check_mine[1]] == '*': # if it's a bomb\n",
    "                    nr_bombs += 1 # increase nr of bombs adjacent\n",
    "\n",
    "            # change on the board\n",
    "            # strings are immutable so we need to convert to a list\n",
    "            row = list(minefield[value[0]])\n",
    "            row[value[1]] = str(nr_bombs)\n",
    "            minefield[value[0]] = \"\".join(row)\n",
    "\n",
    "    return minefield"
   ]
  },
  {
   "cell_type": "code",
   "execution_count": 42,
   "metadata": {},
   "outputs": [
    {
     "name": "stdout",
     "output_type": "stream",
     "text": [
      "Checking for bomb at (1, 0)\n",
      "Checking for bomb at (1, -1)\n",
      "Checking for bomb at (0, 1)\n",
      "Checking for bomb at (-1, 1)\n",
      "Checking for bomb at (-1, 0)\n",
      "Checking for bomb at (-1, 1)\n",
      "Checking for bomb at (0, 1)\n",
      "Checking for bomb at (1, 1)\n",
      "Checking for bomb at (1, 1)\n",
      "Checking for bomb at (1, 0)\n",
      "Checking for bomb at (0, 2)\n",
      "Checking for bomb at (-1, 2)\n",
      "Checking for bomb at (-1, 1)\n",
      "Checking for bomb at (-1, 2)\n",
      "Checking for bomb at (0, 2)\n",
      "Checking for bomb at (1, 2)\n",
      "Checking for bomb at (1, 2)\n",
      "Checking for bomb at (1, 1)\n",
      "Checking for bomb at (0, 3)\n"
     ]
    },
    {
     "ename": "IndexError",
     "evalue": "string index out of range",
     "output_type": "error",
     "traceback": [
      "\u001b[1;31m---------------------------------------------------------------------------\u001b[0m",
      "\u001b[1;31mIndexError\u001b[0m                                Traceback (most recent call last)",
      "Cell \u001b[1;32mIn[42], line 1\u001b[0m\n\u001b[1;32m----> 1\u001b[0m annotate([\u001b[39m\"\u001b[39;49m\u001b[39m   \u001b[39;49m\u001b[39m\"\u001b[39;49m, \u001b[39m\"\u001b[39;49m\u001b[39m * \u001b[39;49m\u001b[39m\"\u001b[39;49m, \u001b[39m\"\u001b[39;49m\u001b[39m   \u001b[39;49m\u001b[39m\"\u001b[39;49m])\n",
      "File \u001b[1;32mf:\\Code\\Exercism\\python\\minesweeper\\minesweeper.py:22\u001b[0m\n\u001b[0;32m     20\u001b[0m     check_mine \u001b[39m=\u001b[39m \u001b[39mtuple\u001b[39m(\u001b[39msum\u001b[39m(x) \u001b[39mfor\u001b[39;00m x \u001b[39min\u001b[39;00m \u001b[39mzip\u001b[39m(value[:\u001b[39m2\u001b[39m], coord)) \u001b[39m# check a sum of coord\u001b[39;00m\n\u001b[0;32m     21\u001b[0m     \u001b[39mprint\u001b[39m(\u001b[39mf\u001b[39m\u001b[39m'\u001b[39m\u001b[39mChecking for bomb at \u001b[39m\u001b[39m{\u001b[39;00mcheck_mine\u001b[39m}\u001b[39;00m\u001b[39m'\u001b[39m)\n\u001b[1;32m---> 22\u001b[0m     \u001b[39mif\u001b[39;00m minefield[check_mine[\u001b[39m0\u001b[39;49m]][check_mine[\u001b[39m1\u001b[39;49m]] \u001b[39m==\u001b[39m \u001b[39m'\u001b[39m\u001b[39m*\u001b[39m\u001b[39m'\u001b[39m: \u001b[39m# if it's a bomb\u001b[39;00m\n\u001b[0;32m     23\u001b[0m         nr_bombs \u001b[39m+\u001b[39m\u001b[39m=\u001b[39m \u001b[39m1\u001b[39m \u001b[39m# increase nr of bombs adjacent\u001b[39;00m\n\u001b[0;32m     25\u001b[0m \u001b[39m# change on the board\u001b[39;00m\n\u001b[0;32m     26\u001b[0m \u001b[39m# strings are immutable so we need to convert to a list\u001b[39;00m\n",
      "\u001b[1;31mIndexError\u001b[0m: string index out of range"
     ]
    }
   ],
   "source": [
    "annotate([\"   \", \" * \", \"   \"])"
   ]
  },
  {
   "cell_type": "code",
   "execution_count": 43,
   "id": "6647adea-9104-4fc6-81d8-75f47dc64f46",
   "metadata": {},
   "outputs": [],
   "source": [
    "COORDS = [(1, 0), # right \n",
    "          (1, -1), # diagonal right down\n",
    "          (0, 1), # down\n",
    "          (-1, 1), # diagonal left down\n",
    "          (-1, 0), # left\n",
    "          (-1, 1), # diagonal left up\n",
    "          (0, 1), # up\n",
    "          (1, 1)] # diagonal right up\n",
    "\n",
    "def annotate(minefield) -> list:\n",
    "    \n",
    "    values = [(x, y, minefield[x][y])\n",
    "              for x in range(len(minefield))\n",
    "              for y in range(len(minefield[0]))]\n",
    "\n",
    "    for value in values:\n",
    "        nr_bombs = 0\n",
    "        if value[2] == ' ': # is an empty space in the board\n",
    "            for coord in COORDS:\n",
    "                check_mine = tuple(sum(x) for x in zip(value[:2], coord)) # check a sum of coord\n",
    "                \n",
    "                # check if check_mine is under board scope\n",
    "                if check_mine[0] >= len(minefield) or check_mine[1] >= len(minefield[0]):\n",
    "                    continue\n",
    "\n",
    "                print(f'Checking for bomb at {check_mine}')\n",
    "                if minefield[check_mine[0]][check_mine[1]] == '*': # if it's a bomb\n",
    "                    nr_bombs += 1 # increase nr of bombs adjacent\n",
    "\n",
    "            # change on the board\n",
    "            # strings are immutable so we need to convert to a list\n",
    "            row = list(minefield[value[0]])\n",
    "            row[value[1]] = str(nr_bombs)\n",
    "            minefield[value[0]] = \"\".join(row)\n",
    "\n",
    "    return minefield"
   ]
  },
  {
   "cell_type": "code",
   "execution_count": 44,
   "metadata": {},
   "outputs": [
    {
     "name": "stdout",
     "output_type": "stream",
     "text": [
      "Checking for bomb at (0, 1)\n",
      "Checking for bomb at (-1, 1)\n",
      "Checking for bomb at (-1, 0)\n",
      "Checking for bomb at (-1, 1)\n",
      "Checking for bomb at (0, 1)\n",
      "Checking for bomb at (0, 3)\n",
      "Checking for bomb at (-1, 3)\n",
      "Checking for bomb at (-1, 2)\n",
      "Checking for bomb at (-1, 3)\n",
      "Checking for bomb at (0, 3)\n",
      "Checking for bomb at (-1, 4)\n"
     ]
    },
    {
     "data": {
      "text/plain": [
       "['4*4*0']"
      ]
     },
     "execution_count": 44,
     "metadata": {},
     "output_type": "execute_result"
    }
   ],
   "source": [
    "annotate([\" * * \"])"
   ]
  },
  {
   "cell_type": "code",
   "execution_count": 45,
   "id": "fe16d663-3695-4af6-9fae-c0188b3cbff3",
   "metadata": {},
   "outputs": [],
   "source": [
    "COORDS = [(1, 0), # right \n",
    "          (1, -1), # diagonal right down\n",
    "          (0, 1), # down\n",
    "          (-1, 1), # diagonal left down\n",
    "          (-1, 0), # left\n",
    "          (-1, 1), # diagonal left up\n",
    "          (0, 1), # up\n",
    "          (1, 1)] # diagonal right up\n",
    "\n",
    "def annotate(minefield) -> list:\n",
    "    \n",
    "    values = [(x, y, minefield[x][y])\n",
    "              for x in range(len(minefield))\n",
    "              for y in range(len(minefield[0]))]\n",
    "\n",
    "    for value in values:\n",
    "        nr_bombs = 0\n",
    "        if value[2] == ' ': # is an empty space in the board\n",
    "            for coord in COORDS:\n",
    "                check_mine = tuple(sum(x) for x in zip(value[:2], coord)) # check a sum of coord\n",
    "                \n",
    "                # check if check_mine is under board scope\n",
    "                if check_mine[0] >= len(minefield) or check_mine[1] >= len(minefield[0]):\n",
    "                    continue\n",
    "\n",
    "                print(f'Checking for bomb at {check_mine}')\n",
    "                if minefield[check_mine[0]][check_mine[1]] == '*': # if it's a bomb\n",
    "                    nr_bombs += 1 # increase nr of bombs adjacent\n",
    "\n",
    "            # change on the board\n",
    "            # strings are immutable so we need to convert to a list\n",
    "            if (nr_bombs != 0):\n",
    "                row = list(minefield[value[0]])\n",
    "                row[value[1]] = str(nr_bombs)\n",
    "                minefield[value[0]] = \"\".join(row)\n",
    "\n",
    "    return minefield"
   ]
  },
  {
   "cell_type": "code",
   "execution_count": 46,
   "metadata": {},
   "outputs": [
    {
     "name": "stdout",
     "output_type": "stream",
     "text": [
      "Checking for bomb at (0, 1)\n",
      "Checking for bomb at (-1, 1)\n",
      "Checking for bomb at (-1, 0)\n",
      "Checking for bomb at (-1, 1)\n",
      "Checking for bomb at (0, 1)\n",
      "Checking for bomb at (0, 3)\n",
      "Checking for bomb at (-1, 3)\n",
      "Checking for bomb at (-1, 2)\n",
      "Checking for bomb at (-1, 3)\n",
      "Checking for bomb at (0, 3)\n",
      "Checking for bomb at (-1, 4)\n"
     ]
    },
    {
     "data": {
      "text/plain": [
       "['4*4* ']"
      ]
     },
     "execution_count": 46,
     "metadata": {},
     "output_type": "execute_result"
    }
   ],
   "source": [
    "annotate([\" * * \"])"
   ]
  },
  {
   "cell_type": "code",
   "execution_count": 47,
   "id": "d73f9a79-0ddf-4eaf-ab75-b10ebc860fdc",
   "metadata": {},
   "outputs": [],
   "source": [
    "COORDS = [(1, 0), # right \n",
    "          (1, -1), # diagonal right down\n",
    "          (0, 1), # down\n",
    "          (-1, 1), # diagonal left down\n",
    "          (-1, 0), # left\n",
    "          (-1, 1), # diagonal left up\n",
    "          (0, 1), # up\n",
    "          (1, 1)] # diagonal right up\n",
    "\n",
    "def annotate(minefield) -> list:\n",
    "    \n",
    "    values = [(x, y, minefield[x][y])\n",
    "              for x in range(len(minefield))\n",
    "              for y in range(len(minefield[0]))]\n",
    "\n",
    "    for value in values:\n",
    "        nr_bombs = 0\n",
    "        if value[2] == ' ': # is an empty space in the board\n",
    "            for coord in COORDS:\n",
    "                check_mine = tuple(sum(x) for x in zip(value[:2], coord)) # check a sum of coord\n",
    "                \n",
    "                # check if check_mine is under board scope\n",
    "                if check_mine[0] >= len(minefield) or check_mine[1] >= len(minefield[0]):\n",
    "                    continue\n",
    "                print(f'checking adjacency for ({value[0]}, {value[1]})')\n",
    "                print(f'Checking for bomb at {check_mine} with ')\n",
    "                if minefield[check_mine[0]][check_mine[1]] == '*': # if it's a bomb\n",
    "                    print(\"there's a bomb \")\n",
    "                    nr_bombs += 1 # increase nr of bombs adjacent\n",
    "\n",
    "            # change on the board\n",
    "            # strings are immutable so we need to convert to a list\n",
    "            if (nr_bombs != 0):\n",
    "                row = list(minefield[value[0]])\n",
    "                row[value[1]] = str(nr_bombs)\n",
    "                minefield[value[0]] = \"\".join(row)\n",
    "\n",
    "    return minefield"
   ]
  },
  {
   "cell_type": "code",
   "execution_count": 48,
   "metadata": {},
   "outputs": [
    {
     "name": "stdout",
     "output_type": "stream",
     "text": [
      "checking adjacency for (0, 0)\n",
      "Checking for bomb at (0, 1) with \n",
      "there's a bomb \n",
      "checking adjacency for (0, 0)\n",
      "Checking for bomb at (-1, 1) with \n",
      "there's a bomb \n",
      "checking adjacency for (0, 0)\n",
      "Checking for bomb at (-1, 0) with \n",
      "checking adjacency for (0, 0)\n",
      "Checking for bomb at (-1, 1) with \n",
      "there's a bomb \n",
      "checking adjacency for (0, 0)\n",
      "Checking for bomb at (0, 1) with \n",
      "there's a bomb \n",
      "checking adjacency for (0, 2)\n",
      "Checking for bomb at (0, 3) with \n",
      "there's a bomb \n",
      "checking adjacency for (0, 2)\n",
      "Checking for bomb at (-1, 3) with \n",
      "there's a bomb \n",
      "checking adjacency for (0, 2)\n",
      "Checking for bomb at (-1, 2) with \n",
      "checking adjacency for (0, 2)\n",
      "Checking for bomb at (-1, 3) with \n",
      "there's a bomb \n",
      "checking adjacency for (0, 2)\n",
      "Checking for bomb at (0, 3) with \n",
      "there's a bomb \n",
      "checking adjacency for (0, 4)\n",
      "Checking for bomb at (-1, 4) with \n"
     ]
    },
    {
     "data": {
      "text/plain": [
       "['4*4* ']"
      ]
     },
     "execution_count": 48,
     "metadata": {},
     "output_type": "execute_result"
    }
   ],
   "source": [
    "annotate([\" * * \"])"
   ]
  },
  {
   "cell_type": "code",
   "execution_count": 49,
   "id": "9728459c-daac-46b2-a7af-75883aad24af",
   "metadata": {},
   "outputs": [],
   "source": [
    "COORDS = [(1, 0), # right \n",
    "          (1, -1), # diagonal right down\n",
    "          (0, 1), # down\n",
    "          (-1, 1), # diagonal left down\n",
    "          (-1, 0), # left\n",
    "          (-1, 1), # diagonal left up\n",
    "          (0, 1), # up\n",
    "          (1, 1)] # diagonal right up\n",
    "\n",
    "def annotate(minefield) -> list:\n",
    "    \n",
    "    values = [(x, y, minefield[x][y])\n",
    "              for x in range(len(minefield))\n",
    "              for y in range(len(minefield[0]))]\n",
    "\n",
    "    for value in values:\n",
    "        nr_bombs = 0\n",
    "        if value[2] == ' ': # is an empty space in the board\n",
    "            for coord in COORDS:\n",
    "                check_mine = tuple(sum(x) for x in zip(value[:2], coord)) # check a sum of coord\n",
    "                \n",
    "                # check if check_mine is under board scope\n",
    "                if check_mine[0] >= len(minefield) or check_mine[1] >= len(minefield[0]):\n",
    "                    continue\n",
    "                print(f'checking adjacency for ({value[0]}, {value[1]})')\n",
    "                print(f'Checking for bomb at {check_mine}: {minefield[check_mine[0]][check_mine[1]]}')\n",
    "                if minefield[check_mine[0]][check_mine[1]] == '*': # if it's a bomb\n",
    "                    print(\"there's a bomb \")\n",
    "                    nr_bombs += 1 # increase nr of bombs adjacent\n",
    "\n",
    "            # change on the board\n",
    "            # strings are immutable so we need to convert to a list\n",
    "            if (nr_bombs != 0):\n",
    "                row = list(minefield[value[0]])\n",
    "                row[value[1]] = str(nr_bombs)\n",
    "                minefield[value[0]] = \"\".join(row)\n",
    "\n",
    "    return minefield"
   ]
  },
  {
   "cell_type": "code",
   "execution_count": 50,
   "metadata": {},
   "outputs": [
    {
     "name": "stdout",
     "output_type": "stream",
     "text": [
      "checking adjacency for (0, 0)\n",
      "Checking for bomb at (0, 1): *\n",
      "there's a bomb \n",
      "checking adjacency for (0, 0)\n",
      "Checking for bomb at (-1, 1): *\n",
      "there's a bomb \n",
      "checking adjacency for (0, 0)\n",
      "Checking for bomb at (-1, 0):  \n",
      "checking adjacency for (0, 0)\n",
      "Checking for bomb at (-1, 1): *\n",
      "there's a bomb \n",
      "checking adjacency for (0, 0)\n",
      "Checking for bomb at (0, 1): *\n",
      "there's a bomb \n",
      "checking adjacency for (0, 2)\n",
      "Checking for bomb at (0, 3): *\n",
      "there's a bomb \n",
      "checking adjacency for (0, 2)\n",
      "Checking for bomb at (-1, 3): *\n",
      "there's a bomb \n",
      "checking adjacency for (0, 2)\n",
      "Checking for bomb at (-1, 2):  \n",
      "checking adjacency for (0, 2)\n",
      "Checking for bomb at (-1, 3): *\n",
      "there's a bomb \n",
      "checking adjacency for (0, 2)\n",
      "Checking for bomb at (0, 3): *\n",
      "there's a bomb \n",
      "checking adjacency for (0, 4)\n",
      "Checking for bomb at (-1, 4):  \n"
     ]
    },
    {
     "data": {
      "text/plain": [
       "['4*4* ']"
      ]
     },
     "execution_count": 50,
     "metadata": {},
     "output_type": "execute_result"
    }
   ],
   "source": [
    "annotate([\" * * \"])"
   ]
  },
  {
   "cell_type": "code",
   "execution_count": 51,
   "id": "e75e1ed9-af32-4b62-9643-7eca7a0bc90d",
   "metadata": {},
   "outputs": [],
   "source": [
    "COORDS = [(1, 0), # right \n",
    "          (1, -1), # diagonal right down\n",
    "          (0, 1), # down\n",
    "          (-1, 1), # diagonal left down\n",
    "          (-1, 0), # left\n",
    "          (-1, 1), # diagonal left up\n",
    "          (0, 1), # up\n",
    "          (1, 1)] # diagonal right up\n",
    "\n",
    "def annotate(minefield) -> list:\n",
    "    \n",
    "    values = [(x, y, minefield[x][y])\n",
    "              for x in range(len(minefield))\n",
    "              for y in range(len(minefield[0]))]\n",
    "\n",
    "    for value in values:\n",
    "        nr_bombs = 0\n",
    "        if value[2] == ' ': # is an empty space in the board\n",
    "            for coord in COORDS:\n",
    "                check_mine = tuple(sum(x) for x in zip(value[:2], coord)) # check a sum of coord\n",
    "                \n",
    "                # check if check_mine is under board scope\n",
    "                if check_mine[0] >= len(minefield) or check_mine[1] >= len(minefield[0]):\n",
    "                    continue\n",
    "                print(f'checking adjacency for ({value[0]}, {value[1]}) + {coord}')\n",
    "                print(f'Checking for bomb at {check_mine}: {minefield[check_mine[0]][check_mine[1]]}')\n",
    "                if minefield[check_mine[0]][check_mine[1]] == '*': # if it's a bomb\n",
    "                    print(\"there's a bomb \")\n",
    "                    nr_bombs += 1 # increase nr of bombs adjacent\n",
    "\n",
    "            # change on the board\n",
    "            # strings are immutable so we need to convert to a list\n",
    "            if (nr_bombs != 0):\n",
    "                row = list(minefield[value[0]])\n",
    "                row[value[1]] = str(nr_bombs)\n",
    "                minefield[value[0]] = \"\".join(row)\n",
    "\n",
    "    return minefield"
   ]
  },
  {
   "cell_type": "code",
   "execution_count": 52,
   "metadata": {},
   "outputs": [
    {
     "name": "stdout",
     "output_type": "stream",
     "text": [
      "checking adjacency for (0, 0) + (0, 1)\n",
      "Checking for bomb at (0, 1): *\n",
      "there's a bomb \n",
      "checking adjacency for (0, 0) + (-1, 1)\n",
      "Checking for bomb at (-1, 1): *\n",
      "there's a bomb \n",
      "checking adjacency for (0, 0) + (-1, 0)\n",
      "Checking for bomb at (-1, 0):  \n",
      "checking adjacency for (0, 0) + (-1, 1)\n",
      "Checking for bomb at (-1, 1): *\n",
      "there's a bomb \n",
      "checking adjacency for (0, 0) + (0, 1)\n",
      "Checking for bomb at (0, 1): *\n",
      "there's a bomb \n",
      "checking adjacency for (0, 2) + (0, 1)\n",
      "Checking for bomb at (0, 3): *\n",
      "there's a bomb \n",
      "checking adjacency for (0, 2) + (-1, 1)\n",
      "Checking for bomb at (-1, 3): *\n",
      "there's a bomb \n",
      "checking adjacency for (0, 2) + (-1, 0)\n",
      "Checking for bomb at (-1, 2):  \n",
      "checking adjacency for (0, 2) + (-1, 1)\n",
      "Checking for bomb at (-1, 3): *\n",
      "there's a bomb \n",
      "checking adjacency for (0, 2) + (0, 1)\n",
      "Checking for bomb at (0, 3): *\n",
      "there's a bomb \n",
      "checking adjacency for (0, 4) + (-1, 0)\n",
      "Checking for bomb at (-1, 4):  \n"
     ]
    },
    {
     "data": {
      "text/plain": [
       "['4*4* ']"
      ]
     },
     "execution_count": 52,
     "metadata": {},
     "output_type": "execute_result"
    }
   ],
   "source": [
    "annotate([\" * * \"])"
   ]
  },
  {
   "cell_type": "code",
   "execution_count": 53,
   "id": "a028d52f-cbf4-429a-884f-dd68670f7a64",
   "metadata": {},
   "outputs": [],
   "source": [
    "COORDS = [(1, 0), # right \n",
    "          (1, -1), # diagonal right down\n",
    "          (0, 1), # down\n",
    "          (-1, 1), # diagonal left down\n",
    "          (-1, 0), # left\n",
    "          (-1, 1), # diagonal left up\n",
    "          (0, 1), # up\n",
    "          (1, 1)] # diagonal right up\n",
    "\n",
    "def annotate(minefield) -> list:\n",
    "    \n",
    "    values = [(x, y, minefield[x][y])\n",
    "              for x in range(len(minefield))\n",
    "              for y in range(len(minefield[0]))]\n",
    "\n",
    "    for value in values:\n",
    "        nr_bombs = 0\n",
    "        if value[2] == ' ': # is an empty space in the board\n",
    "            for coord in COORDS:\n",
    "                check_mine = tuple(sum(x) for x in zip(value[:2], coord)) # check a sum of coord\n",
    "                \n",
    "                # check if check_mine is under board scope\n",
    "                if check_mine[0] >= len(minefield) or check_mine[1] >= len(minefield[0]) or check_mine[0] < 0 or check_mine[1] < 0:\n",
    "                    continue\n",
    "                print(f'checking adjacency for ({value[0]}, {value[1]}) + {coord}')\n",
    "                print(f'Checking for bomb at {check_mine}: {minefield[check_mine[0]][check_mine[1]]}')\n",
    "                if minefield[check_mine[0]][check_mine[1]] == '*': # if it's a bomb\n",
    "                    print(\"there's a bomb \")\n",
    "                    nr_bombs += 1 # increase nr of bombs adjacent\n",
    "\n",
    "            # change on the board\n",
    "            # strings are immutable so we need to convert to a list\n",
    "            if (nr_bombs != 0):\n",
    "                row = list(minefield[value[0]])\n",
    "                row[value[1]] = str(nr_bombs)\n",
    "                minefield[value[0]] = \"\".join(row)\n",
    "\n",
    "    return minefield"
   ]
  },
  {
   "cell_type": "code",
   "execution_count": 54,
   "metadata": {},
   "outputs": [
    {
     "name": "stdout",
     "output_type": "stream",
     "text": [
      "checking adjacency for (0, 0) + (0, 1)\n",
      "Checking for bomb at (0, 1): *\n",
      "there's a bomb \n",
      "checking adjacency for (0, 0) + (0, 1)\n",
      "Checking for bomb at (0, 1): *\n",
      "there's a bomb \n",
      "checking adjacency for (0, 2) + (0, 1)\n",
      "Checking for bomb at (0, 3): *\n",
      "there's a bomb \n",
      "checking adjacency for (0, 2) + (0, 1)\n",
      "Checking for bomb at (0, 3): *\n",
      "there's a bomb \n"
     ]
    },
    {
     "data": {
      "text/plain": [
       "['2*2* ']"
      ]
     },
     "execution_count": 54,
     "metadata": {},
     "output_type": "execute_result"
    }
   ],
   "source": [
    "annotate([\" * * \"])"
   ]
  },
  {
   "cell_type": "code",
   "execution_count": 55,
   "id": "e05ad74e-83ff-4513-a513-eb12305bfcab",
   "metadata": {},
   "outputs": [],
   "source": [
    "COORDS = [(1, 0), # right \n",
    "          (1, -1), # diagonal right down\n",
    "          (0, 1), # down\n",
    "          (-1, 1), # diagonal left down\n",
    "          (-1, 0), # left\n",
    "          (-1, 1), # diagonal left up\n",
    "          (0, 1), # up\n",
    "          (1, 1)] # diagonal right up\n",
    "\n",
    "def annotate(minefield) -> list:\n",
    "    \n",
    "    values = [(x, y, minefield[x][y])\n",
    "              for x in range(len(minefield))\n",
    "              for y in range(len(minefield[0]))]\n",
    "\n",
    "    print(values)\n",
    "    for value in values:\n",
    "        nr_bombs = 0\n",
    "        if value[2] == ' ': # is an empty space in the board\n",
    "            for coord in COORDS:\n",
    "                check_mine = tuple(sum(x) for x in zip(value[:2], coord)) # check a sum of coord\n",
    "                \n",
    "                # check if check_mine is under board scope\n",
    "                if check_mine[0] >= len(minefield) or check_mine[1] >= len(minefield[0]) or check_mine[0] < 0 or check_mine[1] < 0:\n",
    "                    continue\n",
    "                print(f'checking adjacency for ({value[0]}, {value[1]}) + {coord}')\n",
    "                print(f'Checking for bomb at {check_mine}: {minefield[check_mine[0]][check_mine[1]]}')\n",
    "                if minefield[check_mine[0]][check_mine[1]] == '*': # if it's a bomb\n",
    "                    print(\"there's a bomb \")\n",
    "                    nr_bombs += 1 # increase nr of bombs adjacent\n",
    "\n",
    "            # change on the board\n",
    "            # strings are immutable so we need to convert to a list\n",
    "            if (nr_bombs != 0):\n",
    "                row = list(minefield[value[0]])\n",
    "                row[value[1]] = str(nr_bombs)\n",
    "                minefield[value[0]] = \"\".join(row)\n",
    "\n",
    "    return minefield"
   ]
  },
  {
   "cell_type": "code",
   "execution_count": 56,
   "metadata": {},
   "outputs": [
    {
     "name": "stdout",
     "output_type": "stream",
     "text": [
      "[(0, 0, ' '), (0, 1, '*'), (0, 2, ' '), (0, 3, '*'), (0, 4, ' ')]\n",
      "checking adjacency for (0, 0) + (0, 1)\n",
      "Checking for bomb at (0, 1): *\n",
      "there's a bomb \n",
      "checking adjacency for (0, 0) + (0, 1)\n",
      "Checking for bomb at (0, 1): *\n",
      "there's a bomb \n",
      "checking adjacency for (0, 2) + (0, 1)\n",
      "Checking for bomb at (0, 3): *\n",
      "there's a bomb \n",
      "checking adjacency for (0, 2) + (0, 1)\n",
      "Checking for bomb at (0, 3): *\n",
      "there's a bomb \n"
     ]
    },
    {
     "data": {
      "text/plain": [
       "['2*2* ']"
      ]
     },
     "execution_count": 56,
     "metadata": {},
     "output_type": "execute_result"
    }
   ],
   "source": [
    "annotate([\" * * \"])"
   ]
  },
  {
   "cell_type": "code",
   "execution_count": 57,
   "metadata": {},
   "outputs": [
    {
     "name": "stdout",
     "output_type": "stream",
     "text": [
      "[(0, 0, ' '), (0, 1, '*'), (0, 2, ' '), (0, 3, '*'), (0, 4, ' ')]\n",
      "checking adjacency for (0, 0) + (0, 1)\n",
      "Checking for bomb at (0, 1): *\n",
      "there's a bomb \n",
      "checking adjacency for (0, 0) + (0, 1)\n",
      "Checking for bomb at (0, 1): *\n",
      "there's a bomb \n",
      "checking adjacency for (0, 2) + (0, 1)\n",
      "Checking for bomb at (0, 3): *\n",
      "there's a bomb \n",
      "checking adjacency for (0, 2) + (0, 1)\n",
      "Checking for bomb at (0, 3): *\n",
      "there's a bomb \n"
     ]
    },
    {
     "data": {
      "text/plain": [
       "['2*2* ']"
      ]
     },
     "execution_count": 57,
     "metadata": {},
     "output_type": "execute_result"
    }
   ],
   "source": [
    "annotate([\" * * \"])"
   ]
  },
  {
   "cell_type": "code",
   "execution_count": 58,
   "id": "7f9b5cf8-8a90-433a-9cea-929a9648e1d2",
   "metadata": {},
   "outputs": [],
   "source": [
    "COORDS = [(1, 0), # right \n",
    "          (1, -1), # diagonal right down\n",
    "          (0, 1), # down\n",
    "          (-1, 1), # diagonal left down\n",
    "          (-1, 0), # left\n",
    "          (-1, 1), # diagonal left up\n",
    "          (0, 1), # up\n",
    "          (1, 1)] # diagonal right up\n",
    "\n",
    "def annotate(minefield) -> list:\n",
    "    \n",
    "    values = [(x, y, minefield[x][y])\n",
    "              for x in range(len(minefield))\n",
    "              for y in range(len(minefield[0]))]\n",
    "\n",
    "    for value in values:\n",
    "        nr_bombs = 0\n",
    "        if value[2] == ' ': # is an empty space in the board\n",
    "            for coord in COORDS:\n",
    "                check_mine = tuple(sum(x) for x in zip(value[:2], coord)) # check a sum of coord\n",
    "                \n",
    "                # check if check_mine is under board scope\n",
    "                if check_mine[0] >= len(minefield) or check_mine[1] >= len(minefield[0]) or check_mine[0] < 0 or check_mine[1] < 0:\n",
    "                    continue\n",
    "                print(f'checking adjacency for {value} + {coord}')\n",
    "                print(f'Checking for bomb at {check_mine}: {minefield[check_mine[0]][check_mine[1]]}')\n",
    "                if minefield[check_mine[0]][check_mine[1]] == '*': # if it's a bomb\n",
    "                    print(\"there's a bomb \")\n",
    "                    nr_bombs += 1 # increase nr of bombs adjacent\n",
    "\n",
    "            # change on the board\n",
    "            # strings are immutable so we need to convert to a list\n",
    "            if (nr_bombs != 0):\n",
    "                row = list(minefield[value[0]])\n",
    "                row[value[1]] = str(nr_bombs)\n",
    "                minefield[value[0]] = \"\".join(row)\n",
    "\n",
    "    return minefield"
   ]
  },
  {
   "cell_type": "code",
   "execution_count": 59,
   "metadata": {},
   "outputs": [
    {
     "name": "stdout",
     "output_type": "stream",
     "text": [
      "checking adjacency for (0, 0, ' ') + (0, 1)\n",
      "Checking for bomb at (0, 1): *\n",
      "there's a bomb \n",
      "checking adjacency for (0, 0, ' ') + (0, 1)\n",
      "Checking for bomb at (0, 1): *\n",
      "there's a bomb \n",
      "checking adjacency for (0, 2, ' ') + (0, 1)\n",
      "Checking for bomb at (0, 3): *\n",
      "there's a bomb \n",
      "checking adjacency for (0, 2, ' ') + (0, 1)\n",
      "Checking for bomb at (0, 3): *\n",
      "there's a bomb \n"
     ]
    },
    {
     "data": {
      "text/plain": [
       "['2*2* ']"
      ]
     },
     "execution_count": 59,
     "metadata": {},
     "output_type": "execute_result"
    }
   ],
   "source": [
    "annotate([\" * * \"])"
   ]
  },
  {
   "cell_type": "code",
   "execution_count": 60,
   "id": "9fe8a1f6-f226-4f02-af58-340464485cd6",
   "metadata": {},
   "outputs": [],
   "source": [
    "COORDS = [(1, 0), # right \n",
    "          (1, -1), # diagonal right down\n",
    "          (0, 1), # down\n",
    "          (-1, 1), # diagonal left down\n",
    "          (-1, 0), # left\n",
    "          (-1, 1), # diagonal left up\n",
    "          (0, 1), # up\n",
    "          (1, 1)] # diagonal right up\n",
    "\n",
    "def annotate(minefield) -> list:\n",
    "    \n",
    "    values = [(x, y, minefield[x][y])\n",
    "              for x in range(len(minefield))\n",
    "              for y in range(len(minefield[0]))]\n",
    "\n",
    "    for value in values:\n",
    "        nr_bombs = 0\n",
    "        if value[2] == ' ': # is an empty space in the board\n",
    "            for coord in COORDS:\n",
    "                print(coord)\n",
    "                check_mine = tuple(sum(x) for x in zip(value[:2], coord)) # check ajacent coord\n",
    "                \n",
    "                # check if check_mine is under board scope\n",
    "                if check_mine[0] >= len(minefield) or check_mine[1] >= len(minefield[0]) or check_mine[0] < 0 or check_mine[1] < 0:\n",
    "                    continue\n",
    "                print(f'checking adjacency for {value} + {coord}')\n",
    "                print(f'Checking for bomb at {check_mine}: {minefield[check_mine[0]][check_mine[1]]}')\n",
    "                if minefield[check_mine[0]][check_mine[1]] == '*': # if it's a bomb\n",
    "                    print(\"there's a bomb \")\n",
    "                    nr_bombs += 1 # increase nr of bombs adjacent\n",
    "\n",
    "            # change on the board\n",
    "            # strings are immutable so we need to convert to a list\n",
    "            if (nr_bombs != 0):\n",
    "                row = list(minefield[value[0]])\n",
    "                row[value[1]] = str(nr_bombs)\n",
    "                minefield[value[0]] = \"\".join(row)\n",
    "\n",
    "    return minefield"
   ]
  },
  {
   "cell_type": "code",
   "execution_count": 61,
   "metadata": {},
   "outputs": [
    {
     "name": "stdout",
     "output_type": "stream",
     "text": [
      "(1, 0)\n",
      "(1, -1)\n",
      "(0, 1)\n",
      "checking adjacency for (0, 0, ' ') + (0, 1)\n",
      "Checking for bomb at (0, 1): *\n",
      "there's a bomb \n",
      "(-1, 1)\n",
      "(-1, 0)\n",
      "(-1, 1)\n",
      "(0, 1)\n",
      "checking adjacency for (0, 0, ' ') + (0, 1)\n",
      "Checking for bomb at (0, 1): *\n",
      "there's a bomb \n",
      "(1, 1)\n",
      "(1, 0)\n",
      "(1, -1)\n",
      "(0, 1)\n",
      "checking adjacency for (0, 2, ' ') + (0, 1)\n",
      "Checking for bomb at (0, 3): *\n",
      "there's a bomb \n",
      "(-1, 1)\n",
      "(-1, 0)\n",
      "(-1, 1)\n",
      "(0, 1)\n",
      "checking adjacency for (0, 2, ' ') + (0, 1)\n",
      "Checking for bomb at (0, 3): *\n",
      "there's a bomb \n",
      "(1, 1)\n",
      "(1, 0)\n",
      "(1, -1)\n",
      "(0, 1)\n",
      "(-1, 1)\n",
      "(-1, 0)\n",
      "(-1, 1)\n",
      "(0, 1)\n",
      "(1, 1)\n"
     ]
    },
    {
     "data": {
      "text/plain": [
       "['2*2* ']"
      ]
     },
     "execution_count": 61,
     "metadata": {},
     "output_type": "execute_result"
    }
   ],
   "source": [
    "annotate([\" * * \"])"
   ]
  },
  {
   "cell_type": "code",
   "execution_count": 62,
   "id": "f49b9477-1ed0-4a10-8f14-64c541085f80",
   "metadata": {},
   "outputs": [],
   "source": [
    "COORDS = [(1, 0), # right \n",
    "          (1, -1), # diagonal right down\n",
    "          (0, -1), # down\n",
    "          (-1, 1), # diagonal left down\n",
    "          (-1, 0), # left\n",
    "          (-1, 1), # diagonal left up\n",
    "          (0, 1), # up\n",
    "          (1, 1)] # diagonal right up\n",
    "\n",
    "def annotate(minefield) -> list:\n",
    "    \n",
    "    values = [(x, y, minefield[x][y])\n",
    "              for x in range(len(minefield))\n",
    "              for y in range(len(minefield[0]))]\n",
    "\n",
    "    for value in values:\n",
    "        nr_bombs = 0\n",
    "        if value[2] == ' ': # is an empty space in the board\n",
    "            for coord in COORDS:\n",
    "                print(coord)\n",
    "                check_mine = tuple(sum(x) for x in zip(value[:2], coord)) # check ajacent coord\n",
    "                \n",
    "                # check if check_mine is under board scope\n",
    "                if check_mine[0] >= len(minefield) or check_mine[1] >= len(minefield[0]) or check_mine[0] < 0 or check_mine[1] < 0:\n",
    "                    continue\n",
    "                print(f'checking adjacency for {value} + {coord}')\n",
    "                print(f'Checking for bomb at {check_mine}: {minefield[check_mine[0]][check_mine[1]]}')\n",
    "                if minefield[check_mine[0]][check_mine[1]] == '*': # if it's a bomb\n",
    "                    print(\"there's a bomb \")\n",
    "                    nr_bombs += 1 # increase nr of bombs adjacent\n",
    "\n",
    "            # change on the board\n",
    "            # strings are immutable so we need to convert to a list\n",
    "            if (nr_bombs != 0):\n",
    "                row = list(minefield[value[0]])\n",
    "                row[value[1]] = str(nr_bombs)\n",
    "                minefield[value[0]] = \"\".join(row)\n",
    "\n",
    "    return minefield"
   ]
  },
  {
   "cell_type": "code",
   "execution_count": 63,
   "metadata": {},
   "outputs": [
    {
     "data": {
      "text/plain": [
       "['***', '***', '***']"
      ]
     },
     "execution_count": 63,
     "metadata": {},
     "output_type": "execute_result"
    }
   ],
   "source": [
    "annotate([\"***\", \"***\", \"***\"])"
   ]
  },
  {
   "cell_type": "code",
   "execution_count": 64,
   "metadata": {},
   "outputs": [
    {
     "name": "stdout",
     "output_type": "stream",
     "text": [
      "(1, 0)\n",
      "(1, -1)\n",
      "(0, -1)\n",
      "(-1, 1)\n",
      "(-1, 0)\n",
      "(-1, 1)\n",
      "(0, 1)\n",
      "checking adjacency for (0, 0, ' ') + (0, 1)\n",
      "Checking for bomb at (0, 1): *\n",
      "there's a bomb \n",
      "(1, 1)\n",
      "(1, 0)\n",
      "(1, -1)\n",
      "(0, -1)\n",
      "checking adjacency for (0, 2, ' ') + (0, -1)\n",
      "Checking for bomb at (0, 1): *\n",
      "there's a bomb \n",
      "(-1, 1)\n",
      "(-1, 0)\n",
      "(-1, 1)\n",
      "(0, 1)\n",
      "checking adjacency for (0, 2, ' ') + (0, 1)\n",
      "Checking for bomb at (0, 3): *\n",
      "there's a bomb \n",
      "(1, 1)\n",
      "(1, 0)\n",
      "(1, -1)\n",
      "(0, -1)\n",
      "checking adjacency for (0, 4, ' ') + (0, -1)\n",
      "Checking for bomb at (0, 3): *\n",
      "there's a bomb \n",
      "(-1, 1)\n",
      "(-1, 0)\n",
      "(-1, 1)\n",
      "(0, 1)\n",
      "(1, 1)\n"
     ]
    },
    {
     "data": {
      "text/plain": [
       "['1*2*1']"
      ]
     },
     "execution_count": 64,
     "metadata": {},
     "output_type": "execute_result"
    }
   ],
   "source": [
    "annotate([\" * * \"])"
   ]
  },
  {
   "cell_type": "code",
   "execution_count": 65,
   "metadata": {},
   "outputs": [
    {
     "name": "stdout",
     "output_type": "stream",
     "text": [
      "(1, 0)\n",
      "checking adjacency for (0, 0, ' ') + (1, 0)\n",
      "Checking for bomb at (1, 0):  \n",
      "(1, -1)\n",
      "(0, -1)\n",
      "(-1, 1)\n",
      "(-1, 0)\n",
      "(-1, 1)\n",
      "(0, 1)\n",
      "checking adjacency for (0, 0, ' ') + (0, 1)\n",
      "Checking for bomb at (0, 1):  \n",
      "(1, 1)\n",
      "checking adjacency for (0, 0, ' ') + (1, 1)\n",
      "Checking for bomb at (1, 1):  \n",
      "(1, 0)\n",
      "checking adjacency for (0, 1, ' ') + (1, 0)\n",
      "Checking for bomb at (1, 1):  \n",
      "(1, -1)\n",
      "checking adjacency for (0, 1, ' ') + (1, -1)\n",
      "Checking for bomb at (1, 0):  \n",
      "(0, -1)\n",
      "checking adjacency for (0, 1, ' ') + (0, -1)\n",
      "Checking for bomb at (0, 0):  \n",
      "(-1, 1)\n",
      "(-1, 0)\n",
      "(-1, 1)\n",
      "(0, 1)\n",
      "checking adjacency for (0, 1, ' ') + (0, 1)\n",
      "Checking for bomb at (0, 2):  \n",
      "(1, 1)\n",
      "checking adjacency for (0, 1, ' ') + (1, 1)\n",
      "Checking for bomb at (1, 2):  \n",
      "(1, 0)\n",
      "checking adjacency for (0, 2, ' ') + (1, 0)\n",
      "Checking for bomb at (1, 2):  \n",
      "(1, -1)\n",
      "checking adjacency for (0, 2, ' ') + (1, -1)\n",
      "Checking for bomb at (1, 1):  \n",
      "(0, -1)\n",
      "checking adjacency for (0, 2, ' ') + (0, -1)\n",
      "Checking for bomb at (0, 1):  \n",
      "(-1, 1)\n",
      "(-1, 0)\n",
      "(-1, 1)\n",
      "(0, 1)\n",
      "checking adjacency for (0, 2, ' ') + (0, 1)\n",
      "Checking for bomb at (0, 3):  \n",
      "(1, 1)\n",
      "checking adjacency for (0, 2, ' ') + (1, 1)\n",
      "Checking for bomb at (1, 3): *\n",
      "there's a bomb \n",
      "(1, 0)\n",
      "checking adjacency for (0, 3, ' ') + (1, 0)\n",
      "Checking for bomb at (1, 3): *\n",
      "there's a bomb \n",
      "(1, -1)\n",
      "checking adjacency for (0, 3, ' ') + (1, -1)\n",
      "Checking for bomb at (1, 2):  \n",
      "(0, -1)\n",
      "checking adjacency for (0, 3, ' ') + (0, -1)\n",
      "Checking for bomb at (0, 2): 1\n",
      "(-1, 1)\n",
      "(-1, 0)\n",
      "(-1, 1)\n",
      "(0, 1)\n",
      "checking adjacency for (0, 3, ' ') + (0, 1)\n",
      "Checking for bomb at (0, 4):  \n",
      "(1, 1)\n",
      "checking adjacency for (0, 3, ' ') + (1, 1)\n",
      "Checking for bomb at (1, 4):  \n",
      "(1, 0)\n",
      "checking adjacency for (0, 4, ' ') + (1, 0)\n",
      "Checking for bomb at (1, 4):  \n",
      "(1, -1)\n",
      "checking adjacency for (0, 4, ' ') + (1, -1)\n",
      "Checking for bomb at (1, 3): *\n",
      "there's a bomb \n",
      "(0, -1)\n",
      "checking adjacency for (0, 4, ' ') + (0, -1)\n",
      "Checking for bomb at (0, 3): 1\n",
      "(-1, 1)\n",
      "(-1, 0)\n",
      "(-1, 1)\n",
      "(0, 1)\n",
      "(1, 1)\n",
      "(1, 0)\n",
      "checking adjacency for (1, 0, ' ') + (1, 0)\n",
      "Checking for bomb at (2, 0):  \n",
      "(1, -1)\n",
      "(0, -1)\n",
      "(-1, 1)\n",
      "checking adjacency for (1, 0, ' ') + (-1, 1)\n",
      "Checking for bomb at (0, 1):  \n",
      "(-1, 0)\n",
      "checking adjacency for (1, 0, ' ') + (-1, 0)\n",
      "Checking for bomb at (0, 0):  \n",
      "(-1, 1)\n",
      "checking adjacency for (1, 0, ' ') + (-1, 1)\n",
      "Checking for bomb at (0, 1):  \n",
      "(0, 1)\n",
      "checking adjacency for (1, 0, ' ') + (0, 1)\n",
      "Checking for bomb at (1, 1):  \n",
      "(1, 1)\n",
      "checking adjacency for (1, 0, ' ') + (1, 1)\n",
      "Checking for bomb at (2, 1):  \n",
      "(1, 0)\n",
      "checking adjacency for (1, 1, ' ') + (1, 0)\n",
      "Checking for bomb at (2, 1):  \n",
      "(1, -1)\n",
      "checking adjacency for (1, 1, ' ') + (1, -1)\n",
      "Checking for bomb at (2, 0):  \n",
      "(0, -1)\n",
      "checking adjacency for (1, 1, ' ') + (0, -1)\n",
      "Checking for bomb at (1, 0):  \n",
      "(-1, 1)\n",
      "checking adjacency for (1, 1, ' ') + (-1, 1)\n",
      "Checking for bomb at (0, 2): 1\n",
      "(-1, 0)\n",
      "checking adjacency for (1, 1, ' ') + (-1, 0)\n",
      "Checking for bomb at (0, 1):  \n",
      "(-1, 1)\n",
      "checking adjacency for (1, 1, ' ') + (-1, 1)\n",
      "Checking for bomb at (0, 2): 1\n",
      "(0, 1)\n",
      "checking adjacency for (1, 1, ' ') + (0, 1)\n",
      "Checking for bomb at (1, 2):  \n",
      "(1, 1)\n",
      "checking adjacency for (1, 1, ' ') + (1, 1)\n",
      "Checking for bomb at (2, 2):  \n",
      "(1, 0)\n",
      "checking adjacency for (1, 2, ' ') + (1, 0)\n",
      "Checking for bomb at (2, 2):  \n",
      "(1, -1)\n",
      "checking adjacency for (1, 2, ' ') + (1, -1)\n",
      "Checking for bomb at (2, 1):  \n",
      "(0, -1)\n",
      "checking adjacency for (1, 2, ' ') + (0, -1)\n",
      "Checking for bomb at (1, 1):  \n",
      "(-1, 1)\n",
      "checking adjacency for (1, 2, ' ') + (-1, 1)\n",
      "Checking for bomb at (0, 3): 1\n",
      "(-1, 0)\n",
      "checking adjacency for (1, 2, ' ') + (-1, 0)\n",
      "Checking for bomb at (0, 2): 1\n",
      "(-1, 1)\n",
      "checking adjacency for (1, 2, ' ') + (-1, 1)\n",
      "Checking for bomb at (0, 3): 1\n",
      "(0, 1)\n",
      "checking adjacency for (1, 2, ' ') + (0, 1)\n",
      "Checking for bomb at (1, 3): *\n",
      "there's a bomb \n",
      "(1, 1)\n",
      "checking adjacency for (1, 2, ' ') + (1, 1)\n",
      "Checking for bomb at (2, 3):  \n",
      "(1, 0)\n",
      "checking adjacency for (1, 4, ' ') + (1, 0)\n",
      "Checking for bomb at (2, 4):  \n",
      "(1, -1)\n",
      "checking adjacency for (1, 4, ' ') + (1, -1)\n",
      "Checking for bomb at (2, 3):  \n",
      "(0, -1)\n",
      "checking adjacency for (1, 4, ' ') + (0, -1)\n",
      "Checking for bomb at (1, 3): *\n",
      "there's a bomb \n",
      "(-1, 1)\n",
      "(-1, 0)\n",
      "checking adjacency for (1, 4, ' ') + (-1, 0)\n",
      "Checking for bomb at (0, 4): 1\n",
      "(-1, 1)\n",
      "(0, 1)\n",
      "(1, 1)\n",
      "(1, 0)\n",
      "checking adjacency for (2, 0, ' ') + (1, 0)\n",
      "Checking for bomb at (3, 0):  \n",
      "(1, -1)\n",
      "(0, -1)\n",
      "(-1, 1)\n",
      "checking adjacency for (2, 0, ' ') + (-1, 1)\n",
      "Checking for bomb at (1, 1):  \n",
      "(-1, 0)\n",
      "checking adjacency for (2, 0, ' ') + (-1, 0)\n",
      "Checking for bomb at (1, 0):  \n",
      "(-1, 1)\n",
      "checking adjacency for (2, 0, ' ') + (-1, 1)\n",
      "Checking for bomb at (1, 1):  \n",
      "(0, 1)\n",
      "checking adjacency for (2, 0, ' ') + (0, 1)\n",
      "Checking for bomb at (2, 1):  \n",
      "(1, 1)\n",
      "checking adjacency for (2, 0, ' ') + (1, 1)\n",
      "Checking for bomb at (3, 1):  \n",
      "(1, 0)\n",
      "checking adjacency for (2, 1, ' ') + (1, 0)\n",
      "Checking for bomb at (3, 1):  \n",
      "(1, -1)\n",
      "checking adjacency for (2, 1, ' ') + (1, -1)\n",
      "Checking for bomb at (3, 0):  \n",
      "(0, -1)\n",
      "checking adjacency for (2, 1, ' ') + (0, -1)\n",
      "Checking for bomb at (2, 0):  \n",
      "(-1, 1)\n",
      "checking adjacency for (2, 1, ' ') + (-1, 1)\n",
      "Checking for bomb at (1, 2): 1\n",
      "(-1, 0)\n",
      "checking adjacency for (2, 1, ' ') + (-1, 0)\n",
      "Checking for bomb at (1, 1):  \n",
      "(-1, 1)\n",
      "checking adjacency for (2, 1, ' ') + (-1, 1)\n",
      "Checking for bomb at (1, 2): 1\n",
      "(0, 1)\n",
      "checking adjacency for (2, 1, ' ') + (0, 1)\n",
      "Checking for bomb at (2, 2):  \n",
      "(1, 1)\n",
      "checking adjacency for (2, 1, ' ') + (1, 1)\n",
      "Checking for bomb at (3, 2):  \n",
      "(1, 0)\n",
      "checking adjacency for (2, 2, ' ') + (1, 0)\n",
      "Checking for bomb at (3, 2):  \n",
      "(1, -1)\n",
      "checking adjacency for (2, 2, ' ') + (1, -1)\n",
      "Checking for bomb at (3, 1):  \n",
      "(0, -1)\n",
      "checking adjacency for (2, 2, ' ') + (0, -1)\n",
      "Checking for bomb at (2, 1):  \n",
      "(-1, 1)\n",
      "checking adjacency for (2, 2, ' ') + (-1, 1)\n",
      "Checking for bomb at (1, 3): *\n",
      "there's a bomb \n",
      "(-1, 0)\n",
      "checking adjacency for (2, 2, ' ') + (-1, 0)\n",
      "Checking for bomb at (1, 2): 1\n",
      "(-1, 1)\n",
      "checking adjacency for (2, 2, ' ') + (-1, 1)\n",
      "Checking for bomb at (1, 3): *\n",
      "there's a bomb \n",
      "(0, 1)\n",
      "checking adjacency for (2, 2, ' ') + (0, 1)\n",
      "Checking for bomb at (2, 3):  \n",
      "(1, 1)\n",
      "checking adjacency for (2, 2, ' ') + (1, 1)\n",
      "Checking for bomb at (3, 3):  \n",
      "(1, 0)\n",
      "checking adjacency for (2, 3, ' ') + (1, 0)\n",
      "Checking for bomb at (3, 3):  \n",
      "(1, -1)\n",
      "checking adjacency for (2, 3, ' ') + (1, -1)\n",
      "Checking for bomb at (3, 2):  \n",
      "(0, -1)\n",
      "checking adjacency for (2, 3, ' ') + (0, -1)\n",
      "Checking for bomb at (2, 2): 2\n",
      "(-1, 1)\n",
      "checking adjacency for (2, 3, ' ') + (-1, 1)\n",
      "Checking for bomb at (1, 4): 1\n",
      "(-1, 0)\n",
      "checking adjacency for (2, 3, ' ') + (-1, 0)\n",
      "Checking for bomb at (1, 3): *\n",
      "there's a bomb \n",
      "(-1, 1)\n",
      "checking adjacency for (2, 3, ' ') + (-1, 1)\n",
      "Checking for bomb at (1, 4): 1\n",
      "(0, 1)\n",
      "checking adjacency for (2, 3, ' ') + (0, 1)\n",
      "Checking for bomb at (2, 4):  \n",
      "(1, 1)\n",
      "checking adjacency for (2, 3, ' ') + (1, 1)\n",
      "Checking for bomb at (3, 4):  \n",
      "(1, 0)\n",
      "checking adjacency for (2, 4, ' ') + (1, 0)\n",
      "Checking for bomb at (3, 4):  \n",
      "(1, -1)\n",
      "checking adjacency for (2, 4, ' ') + (1, -1)\n",
      "Checking for bomb at (3, 3):  \n",
      "(0, -1)\n",
      "checking adjacency for (2, 4, ' ') + (0, -1)\n",
      "Checking for bomb at (2, 3): 1\n",
      "(-1, 1)\n",
      "(-1, 0)\n",
      "checking adjacency for (2, 4, ' ') + (-1, 0)\n",
      "Checking for bomb at (1, 4): 1\n",
      "(-1, 1)\n",
      "(0, 1)\n",
      "(1, 1)\n",
      "(1, 0)\n",
      "checking adjacency for (3, 0, ' ') + (1, 0)\n",
      "Checking for bomb at (4, 0):  \n",
      "(1, -1)\n",
      "(0, -1)\n",
      "(-1, 1)\n",
      "checking adjacency for (3, 0, ' ') + (-1, 1)\n",
      "Checking for bomb at (2, 1):  \n",
      "(-1, 0)\n",
      "checking adjacency for (3, 0, ' ') + (-1, 0)\n",
      "Checking for bomb at (2, 0):  \n",
      "(-1, 1)\n",
      "checking adjacency for (3, 0, ' ') + (-1, 1)\n",
      "Checking for bomb at (2, 1):  \n",
      "(0, 1)\n",
      "checking adjacency for (3, 0, ' ') + (0, 1)\n",
      "Checking for bomb at (3, 1):  \n",
      "(1, 1)\n",
      "checking adjacency for (3, 0, ' ') + (1, 1)\n",
      "Checking for bomb at (4, 1): *\n",
      "there's a bomb \n",
      "(1, 0)\n",
      "checking adjacency for (3, 1, ' ') + (1, 0)\n",
      "Checking for bomb at (4, 1): *\n",
      "there's a bomb \n",
      "(1, -1)\n",
      "checking adjacency for (3, 1, ' ') + (1, -1)\n",
      "Checking for bomb at (4, 0):  \n",
      "(0, -1)\n",
      "checking adjacency for (3, 1, ' ') + (0, -1)\n",
      "Checking for bomb at (3, 0): 1\n",
      "(-1, 1)\n",
      "checking adjacency for (3, 1, ' ') + (-1, 1)\n",
      "Checking for bomb at (2, 2): 2\n",
      "(-1, 0)\n",
      "checking adjacency for (3, 1, ' ') + (-1, 0)\n",
      "Checking for bomb at (2, 1):  \n",
      "(-1, 1)\n",
      "checking adjacency for (3, 1, ' ') + (-1, 1)\n",
      "Checking for bomb at (2, 2): 2\n",
      "(0, 1)\n",
      "checking adjacency for (3, 1, ' ') + (0, 1)\n",
      "Checking for bomb at (3, 2):  \n",
      "(1, 1)\n",
      "checking adjacency for (3, 1, ' ') + (1, 1)\n",
      "Checking for bomb at (4, 2):  \n",
      "(1, 0)\n",
      "checking adjacency for (3, 2, ' ') + (1, 0)\n",
      "Checking for bomb at (4, 2):  \n",
      "(1, -1)\n",
      "checking adjacency for (3, 2, ' ') + (1, -1)\n",
      "Checking for bomb at (4, 1): *\n",
      "there's a bomb \n",
      "(0, -1)\n",
      "checking adjacency for (3, 2, ' ') + (0, -1)\n",
      "Checking for bomb at (3, 1): 1\n",
      "(-1, 1)\n",
      "checking adjacency for (3, 2, ' ') + (-1, 1)\n",
      "Checking for bomb at (2, 3): 1\n",
      "(-1, 0)\n",
      "checking adjacency for (3, 2, ' ') + (-1, 0)\n",
      "Checking for bomb at (2, 2): 2\n",
      "(-1, 1)\n",
      "checking adjacency for (3, 2, ' ') + (-1, 1)\n",
      "Checking for bomb at (2, 3): 1\n",
      "(0, 1)\n",
      "checking adjacency for (3, 2, ' ') + (0, 1)\n",
      "Checking for bomb at (3, 3):  \n",
      "(1, 1)\n",
      "checking adjacency for (3, 2, ' ') + (1, 1)\n",
      "Checking for bomb at (4, 3):  \n",
      "(1, 0)\n",
      "checking adjacency for (3, 3, ' ') + (1, 0)\n",
      "Checking for bomb at (4, 3):  \n",
      "(1, -1)\n",
      "checking adjacency for (3, 3, ' ') + (1, -1)\n",
      "Checking for bomb at (4, 2):  \n",
      "(0, -1)\n",
      "checking adjacency for (3, 3, ' ') + (0, -1)\n",
      "Checking for bomb at (3, 2): 1\n",
      "(-1, 1)\n",
      "checking adjacency for (3, 3, ' ') + (-1, 1)\n",
      "Checking for bomb at (2, 4):  \n",
      "(-1, 0)\n",
      "checking adjacency for (3, 3, ' ') + (-1, 0)\n",
      "Checking for bomb at (2, 3): 1\n",
      "(-1, 1)\n",
      "checking adjacency for (3, 3, ' ') + (-1, 1)\n",
      "Checking for bomb at (2, 4):  \n",
      "(0, 1)\n",
      "checking adjacency for (3, 3, ' ') + (0, 1)\n",
      "Checking for bomb at (3, 4):  \n",
      "(1, 1)\n",
      "checking adjacency for (3, 3, ' ') + (1, 1)\n",
      "Checking for bomb at (4, 4):  \n",
      "(1, 0)\n",
      "checking adjacency for (3, 4, ' ') + (1, 0)\n",
      "Checking for bomb at (4, 4):  \n",
      "(1, -1)\n",
      "checking adjacency for (3, 4, ' ') + (1, -1)\n",
      "Checking for bomb at (4, 3):  \n",
      "(0, -1)\n",
      "checking adjacency for (3, 4, ' ') + (0, -1)\n",
      "Checking for bomb at (3, 3):  \n",
      "(-1, 1)\n",
      "(-1, 0)\n",
      "checking adjacency for (3, 4, ' ') + (-1, 0)\n",
      "Checking for bomb at (2, 4):  \n",
      "(-1, 1)\n",
      "(0, 1)\n",
      "(1, 1)\n",
      "(1, 0)\n",
      "(1, -1)\n",
      "(0, -1)\n",
      "(-1, 1)\n",
      "checking adjacency for (4, 0, ' ') + (-1, 1)\n",
      "Checking for bomb at (3, 1): 1\n",
      "(-1, 0)\n",
      "checking adjacency for (4, 0, ' ') + (-1, 0)\n",
      "Checking for bomb at (3, 0): 1\n",
      "(-1, 1)\n",
      "checking adjacency for (4, 0, ' ') + (-1, 1)\n",
      "Checking for bomb at (3, 1): 1\n",
      "(0, 1)\n",
      "checking adjacency for (4, 0, ' ') + (0, 1)\n",
      "Checking for bomb at (4, 1): *\n",
      "there's a bomb \n",
      "(1, 1)\n",
      "(1, 0)\n",
      "(1, -1)\n",
      "(0, -1)\n",
      "checking adjacency for (4, 2, ' ') + (0, -1)\n",
      "Checking for bomb at (4, 1): *\n",
      "there's a bomb \n",
      "(-1, 1)\n",
      "checking adjacency for (4, 2, ' ') + (-1, 1)\n",
      "Checking for bomb at (3, 3):  \n",
      "(-1, 0)\n",
      "checking adjacency for (4, 2, ' ') + (-1, 0)\n",
      "Checking for bomb at (3, 2): 1\n",
      "(-1, 1)\n",
      "checking adjacency for (4, 2, ' ') + (-1, 1)\n",
      "Checking for bomb at (3, 3):  \n",
      "(0, 1)\n",
      "checking adjacency for (4, 2, ' ') + (0, 1)\n",
      "Checking for bomb at (4, 3):  \n",
      "(1, 1)\n",
      "(1, 0)\n",
      "(1, -1)\n",
      "(0, -1)\n",
      "checking adjacency for (4, 3, ' ') + (0, -1)\n",
      "Checking for bomb at (4, 2): 1\n",
      "(-1, 1)\n",
      "checking adjacency for (4, 3, ' ') + (-1, 1)\n",
      "Checking for bomb at (3, 4):  \n",
      "(-1, 0)\n",
      "checking adjacency for (4, 3, ' ') + (-1, 0)\n",
      "Checking for bomb at (3, 3):  \n",
      "(-1, 1)\n",
      "checking adjacency for (4, 3, ' ') + (-1, 1)\n",
      "Checking for bomb at (3, 4):  \n",
      "(0, 1)\n",
      "checking adjacency for (4, 3, ' ') + (0, 1)\n",
      "Checking for bomb at (4, 4):  \n",
      "(1, 1)\n",
      "(1, 0)\n",
      "(1, -1)\n",
      "(0, -1)\n",
      "checking adjacency for (4, 4, ' ') + (0, -1)\n",
      "Checking for bomb at (4, 3):  \n",
      "(-1, 1)\n",
      "(-1, 0)\n",
      "checking adjacency for (4, 4, ' ') + (-1, 0)\n",
      "Checking for bomb at (3, 4):  \n",
      "(-1, 1)\n",
      "(0, 1)\n",
      "(1, 1)\n"
     ]
    },
    {
     "data": {
      "text/plain": [
       "['  111', '  1*1', '  21 ', '111  ', '1*1  ']"
      ]
     },
     "execution_count": 65,
     "metadata": {},
     "output_type": "execute_result"
    }
   ],
   "source": [
    "annotate([\"     \", \"   * \", \"     \", \"     \", \" *   \"])"
   ]
  },
  {
   "cell_type": "code",
   "execution_count": 66,
   "metadata": {},
   "outputs": [
    {
     "name": "stdout",
     "output_type": "stream",
     "text": [
      "(1, 0)\n",
      "checking adjacency for (0, 0, ' ') + (1, 0)\n",
      "Checking for bomb at (1, 0):  \n",
      "(1, -1)\n",
      "(0, -1)\n",
      "(-1, 1)\n",
      "(-1, 0)\n",
      "(-1, 1)\n",
      "(0, 1)\n",
      "checking adjacency for (0, 0, ' ') + (0, 1)\n",
      "Checking for bomb at (0, 1):  \n",
      "(1, 1)\n",
      "checking adjacency for (0, 0, ' ') + (1, 1)\n",
      "Checking for bomb at (1, 1): *\n",
      "there's a bomb \n",
      "(1, 0)\n",
      "checking adjacency for (0, 1, ' ') + (1, 0)\n",
      "Checking for bomb at (1, 1): *\n",
      "there's a bomb \n",
      "(1, -1)\n",
      "checking adjacency for (0, 1, ' ') + (1, -1)\n",
      "Checking for bomb at (1, 0):  \n",
      "(0, -1)\n",
      "checking adjacency for (0, 1, ' ') + (0, -1)\n",
      "Checking for bomb at (0, 0): 1\n",
      "(-1, 1)\n",
      "(-1, 0)\n",
      "(-1, 1)\n",
      "(0, 1)\n",
      "checking adjacency for (0, 1, ' ') + (0, 1)\n",
      "Checking for bomb at (0, 2):  \n",
      "(1, 1)\n",
      "checking adjacency for (0, 1, ' ') + (1, 1)\n",
      "Checking for bomb at (1, 2):  \n",
      "(1, 0)\n",
      "checking adjacency for (0, 2, ' ') + (1, 0)\n",
      "Checking for bomb at (1, 2):  \n",
      "(1, -1)\n",
      "checking adjacency for (0, 2, ' ') + (1, -1)\n",
      "Checking for bomb at (1, 1): *\n",
      "there's a bomb \n",
      "(0, -1)\n",
      "checking adjacency for (0, 2, ' ') + (0, -1)\n",
      "Checking for bomb at (0, 1): 1\n",
      "(-1, 1)\n",
      "(-1, 0)\n",
      "(-1, 1)\n",
      "(0, 1)\n",
      "(1, 1)\n",
      "(1, 0)\n",
      "checking adjacency for (1, 0, ' ') + (1, 0)\n",
      "Checking for bomb at (2, 0):  \n",
      "(1, -1)\n",
      "(0, -1)\n",
      "(-1, 1)\n",
      "checking adjacency for (1, 0, ' ') + (-1, 1)\n",
      "Checking for bomb at (0, 1): 1\n",
      "(-1, 0)\n",
      "checking adjacency for (1, 0, ' ') + (-1, 0)\n",
      "Checking for bomb at (0, 0): 1\n",
      "(-1, 1)\n",
      "checking adjacency for (1, 0, ' ') + (-1, 1)\n",
      "Checking for bomb at (0, 1): 1\n",
      "(0, 1)\n",
      "checking adjacency for (1, 0, ' ') + (0, 1)\n",
      "Checking for bomb at (1, 1): *\n",
      "there's a bomb \n",
      "(1, 1)\n",
      "checking adjacency for (1, 0, ' ') + (1, 1)\n",
      "Checking for bomb at (2, 1):  \n",
      "(1, 0)\n",
      "checking adjacency for (1, 2, ' ') + (1, 0)\n",
      "Checking for bomb at (2, 2):  \n",
      "(1, -1)\n",
      "checking adjacency for (1, 2, ' ') + (1, -1)\n",
      "Checking for bomb at (2, 1):  \n",
      "(0, -1)\n",
      "checking adjacency for (1, 2, ' ') + (0, -1)\n",
      "Checking for bomb at (1, 1): *\n",
      "there's a bomb \n",
      "(-1, 1)\n",
      "(-1, 0)\n",
      "checking adjacency for (1, 2, ' ') + (-1, 0)\n",
      "Checking for bomb at (0, 2): 1\n",
      "(-1, 1)\n",
      "(0, 1)\n",
      "(1, 1)\n",
      "(1, 0)\n",
      "(1, -1)\n",
      "(0, -1)\n",
      "(-1, 1)\n",
      "checking adjacency for (2, 0, ' ') + (-1, 1)\n",
      "Checking for bomb at (1, 1): *\n",
      "there's a bomb \n",
      "(-1, 0)\n",
      "checking adjacency for (2, 0, ' ') + (-1, 0)\n",
      "Checking for bomb at (1, 0): 1\n",
      "(-1, 1)\n",
      "checking adjacency for (2, 0, ' ') + (-1, 1)\n",
      "Checking for bomb at (1, 1): *\n",
      "there's a bomb \n",
      "(0, 1)\n",
      "checking adjacency for (2, 0, ' ') + (0, 1)\n",
      "Checking for bomb at (2, 1):  \n",
      "(1, 1)\n",
      "(1, 0)\n",
      "(1, -1)\n",
      "(0, -1)\n",
      "checking adjacency for (2, 1, ' ') + (0, -1)\n",
      "Checking for bomb at (2, 0): 2\n",
      "(-1, 1)\n",
      "checking adjacency for (2, 1, ' ') + (-1, 1)\n",
      "Checking for bomb at (1, 2): 1\n",
      "(-1, 0)\n",
      "checking adjacency for (2, 1, ' ') + (-1, 0)\n",
      "Checking for bomb at (1, 1): *\n",
      "there's a bomb \n",
      "(-1, 1)\n",
      "checking adjacency for (2, 1, ' ') + (-1, 1)\n",
      "Checking for bomb at (1, 2): 1\n",
      "(0, 1)\n",
      "checking adjacency for (2, 1, ' ') + (0, 1)\n",
      "Checking for bomb at (2, 2):  \n",
      "(1, 1)\n",
      "(1, 0)\n",
      "(1, -1)\n",
      "(0, -1)\n",
      "checking adjacency for (2, 2, ' ') + (0, -1)\n",
      "Checking for bomb at (2, 1): 1\n",
      "(-1, 1)\n",
      "(-1, 0)\n",
      "checking adjacency for (2, 2, ' ') + (-1, 0)\n",
      "Checking for bomb at (1, 2): 1\n",
      "(-1, 1)\n",
      "(0, 1)\n",
      "(1, 1)\n"
     ]
    },
    {
     "data": {
      "text/plain": [
       "['111', '1*1', '21 ']"
      ]
     },
     "execution_count": 66,
     "metadata": {},
     "output_type": "execute_result"
    }
   ],
   "source": [
    "annotate([\"   \", \" * \", \"   \"])"
   ]
  },
  {
   "cell_type": "code",
   "execution_count": 67,
   "metadata": {},
   "outputs": [],
   "source": [
    "a =['111', '1*1', '21 ']"
   ]
  },
  {
   "cell_type": "code",
   "execution_count": 68,
   "metadata": {},
   "outputs": [],
   "source": [
    "b=set(a)"
   ]
  },
  {
   "cell_type": "code",
   "execution_count": 69,
   "metadata": {},
   "outputs": [
    {
     "data": {
      "text/plain": [
       "{'1*1', '111', '21 '}"
      ]
     },
     "execution_count": 69,
     "metadata": {},
     "output_type": "execute_result"
    }
   ],
   "source": [
    "b"
   ]
  },
  {
   "cell_type": "code",
   "execution_count": 70,
   "metadata": {},
   "outputs": [
    {
     "ename": "TypeError",
     "evalue": "'int' object is not iterable",
     "output_type": "error",
     "traceback": [
      "\u001b[1;31m---------------------------------------------------------------------------\u001b[0m",
      "\u001b[1;31mTypeError\u001b[0m                                 Traceback (most recent call last)",
      "Cell \u001b[1;32mIn[70], line 1\u001b[0m\n\u001b[1;32m----> 1\u001b[0m b \u001b[39m=\u001b[39m \u001b[39mset\u001b[39;49m(\u001b[39mlen\u001b[39;49m(a))\n",
      "\u001b[1;31mTypeError\u001b[0m: 'int' object is not iterable"
     ]
    }
   ],
   "source": [
    "b = set(len(a))"
   ]
  },
  {
   "cell_type": "code",
   "execution_count": 71,
   "id": "f06bfe2e-65e7-43f5-81e8-527b736a939a",
   "metadata": {},
   "outputs": [],
   "source": [
    "COORDS = [(1, 0), # right \n",
    "          (1, -1), # diagonal right down\n",
    "          (0, -1), # down\n",
    "          (-1, -1), # diagonal left down\n",
    "          (-1, 0), # left\n",
    "          (-1, 1), # diagonal left up\n",
    "          (0, 1), # up\n",
    "          (1, 1)] # diagonal right up\n",
    "\n",
    "def annotate(minefield) -> list:\n",
    "\n",
    "    wrong_lenght = any(map(lambda x: minefield[0] != minefield[x], range(0, len(minefield), 1)))\n",
    "    wrong_char = any(minefield[i][j] != ' ' or minefield[i][j] != '*' for i in range(len(minefield)) for j in range(len(minefield[0])))\n",
    "    if wrong_lenght or wrong_char:\n",
    "        raise ValueError(\"The board is invalid with current input.\")\n",
    "    \n",
    "    values = [(x, y, minefield[x][y])\n",
    "              for x in range(len(minefield))\n",
    "              for y in range(len(minefield[0]))]\n",
    "\n",
    "    for value in values:\n",
    "        nr_bombs = 0\n",
    "        if value[2] == ' ': # is an empty space in the board\n",
    "            for coord in COORDS:\n",
    "                check_mine = tuple(sum(x) for x in zip(value[:2], coord)) # check ajacent coord\n",
    "                \n",
    "                # check if check_mine is under board scope\n",
    "                if check_mine[0] >= len(minefield) or check_mine[1] >= len(minefield[0]) or check_mine[0] < 0 or check_mine[1] < 0:\n",
    "                    continue\n",
    "\n",
    "                if minefield[check_mine[0]][check_mine[1]] == '*': # if it's a bomb\n",
    "                    nr_bombs += 1 # increase nr of bombs adjacent\n",
    "\n",
    "            # change on the board\n",
    "            # strings are immutable so we need to convert to a list\n",
    "            if (nr_bombs != 0):\n",
    "                row = list(minefield[value[0]])\n",
    "                row[value[1]] = str(nr_bombs)\n",
    "                minefield[value[0]] = \"\".join(row)\n",
    "\n",
    "    return minefield"
   ]
  },
  {
   "cell_type": "code",
   "execution_count": 72,
   "metadata": {},
   "outputs": [
    {
     "ename": "ValueError",
     "evalue": "The board is invalid with current input.",
     "output_type": "error",
     "traceback": [
      "\u001b[1;31m---------------------------------------------------------------------------\u001b[0m",
      "\u001b[1;31mValueError\u001b[0m                                Traceback (most recent call last)",
      "Cell \u001b[1;32mIn[72], line 1\u001b[0m\n\u001b[1;32m----> 1\u001b[0m annotate([\u001b[39m\"\u001b[39;49m\u001b[39m   \u001b[39;49m\u001b[39m\"\u001b[39;49m, \u001b[39m\"\u001b[39;49m\u001b[39m * \u001b[39;49m\u001b[39m\"\u001b[39;49m, \u001b[39m\"\u001b[39;49m\u001b[39m   \u001b[39;49m\u001b[39m\"\u001b[39;49m])\n",
      "File \u001b[1;32mf:\\Code\\Exercism\\python\\minesweeper\\minesweeper.py:15\u001b[0m\n\u001b[0;32m     13\u001b[0m wrong_char \u001b[39m=\u001b[39m \u001b[39many\u001b[39m(minefield[i][j] \u001b[39m!=\u001b[39m \u001b[39m'\u001b[39m\u001b[39m \u001b[39m\u001b[39m'\u001b[39m \u001b[39mor\u001b[39;00m minefield[i][j] \u001b[39m!=\u001b[39m \u001b[39m'\u001b[39m\u001b[39m*\u001b[39m\u001b[39m'\u001b[39m \u001b[39mfor\u001b[39;00m i \u001b[39min\u001b[39;00m \u001b[39mrange\u001b[39m(\u001b[39mlen\u001b[39m(minefield)) \u001b[39mfor\u001b[39;00m j \u001b[39min\u001b[39;00m \u001b[39mrange\u001b[39m(\u001b[39mlen\u001b[39m(minefield[\u001b[39m0\u001b[39m])))\n\u001b[0;32m     14\u001b[0m \u001b[39mif\u001b[39;00m wrong_lenght \u001b[39mor\u001b[39;00m wrong_char:\n\u001b[1;32m---> 15\u001b[0m     \u001b[39mraise\u001b[39;00m \u001b[39mValueError\u001b[39;00m(\u001b[39m\"\u001b[39m\u001b[39mThe board is invalid with current input.\u001b[39m\u001b[39m\"\u001b[39m)\n\u001b[0;32m     17\u001b[0m values \u001b[39m=\u001b[39m [(x, y, minefield[x][y])\n\u001b[0;32m     18\u001b[0m           \u001b[39mfor\u001b[39;00m x \u001b[39min\u001b[39;00m \u001b[39mrange\u001b[39m(\u001b[39mlen\u001b[39m(minefield))\n\u001b[0;32m     19\u001b[0m           \u001b[39mfor\u001b[39;00m y \u001b[39min\u001b[39;00m \u001b[39mrange\u001b[39m(\u001b[39mlen\u001b[39m(minefield[\u001b[39m0\u001b[39m]))]\n\u001b[0;32m     21\u001b[0m \u001b[39mfor\u001b[39;00m value \u001b[39min\u001b[39;00m values:\n",
      "\u001b[1;31mValueError\u001b[0m: The board is invalid with current input."
     ]
    }
   ],
   "source": [
    "annotate([\"   \", \" * \", \"   \"])"
   ]
  },
  {
   "cell_type": "code",
   "execution_count": 73,
   "id": "f59e311c-a744-4e21-acf7-41c1a2bb18cb",
   "metadata": {},
   "outputs": [],
   "source": [
    "COORDS = [(1, 0), # right \n",
    "          (1, -1), # diagonal right down\n",
    "          (0, -1), # down\n",
    "          (-1, -1), # diagonal left down\n",
    "          (-1, 0), # left\n",
    "          (-1, 1), # diagonal left up\n",
    "          (0, 1), # up\n",
    "          (1, 1)] # diagonal right up\n",
    "\n",
    "def annotate(minefield) -> list:\n",
    "\n",
    "    wrong_lenght = any(map(lambda x: len(minefield[0]) != len(minefield[x]), range(0, len(minefield), 1)))\n",
    "    wrong_char = list(minefield[i][j] for i in range(len(minefield)) for j in range(len(minefield[0])))\n",
    "    #minefield[i][j] != ' ' or minefield[i][j] != '*\n",
    "    print(wrong_char)\n",
    "    if wrong_lenght or wrong_char:\n",
    "        raise ValueError(\"The board is invalid with current input.\")\n",
    "    \n",
    "    values = [(x, y, minefield[x][y])\n",
    "              for x in range(len(minefield))\n",
    "              for y in range(len(minefield[0]))]\n",
    "\n",
    "    for value in values:\n",
    "        nr_bombs = 0\n",
    "        if value[2] == ' ': # is an empty space in the board\n",
    "            for coord in COORDS:\n",
    "                check_mine = tuple(sum(x) for x in zip(value[:2], coord)) # check ajacent coord\n",
    "                \n",
    "                # check if check_mine is under board scope\n",
    "                if check_mine[0] >= len(minefield) or check_mine[1] >= len(minefield[0]) or check_mine[0] < 0 or check_mine[1] < 0:\n",
    "                    continue\n",
    "\n",
    "                if minefield[check_mine[0]][check_mine[1]] == '*': # if it's a bomb\n",
    "                    nr_bombs += 1 # increase nr of bombs adjacent\n",
    "\n",
    "            # change on the board\n",
    "            # strings are immutable so we need to convert to a list\n",
    "            if (nr_bombs != 0):\n",
    "                row = list(minefield[value[0]])\n",
    "                row[value[1]] = str(nr_bombs)\n",
    "                minefield[value[0]] = \"\".join(row)\n",
    "\n",
    "    return minefield"
   ]
  },
  {
   "cell_type": "code",
   "execution_count": 74,
   "metadata": {},
   "outputs": [
    {
     "name": "stdout",
     "output_type": "stream",
     "text": [
      "[' ', ' ', ' ', ' ', '*', ' ', ' ', ' ', ' ']\n"
     ]
    },
    {
     "ename": "ValueError",
     "evalue": "The board is invalid with current input.",
     "output_type": "error",
     "traceback": [
      "\u001b[1;31m---------------------------------------------------------------------------\u001b[0m",
      "\u001b[1;31mValueError\u001b[0m                                Traceback (most recent call last)",
      "Cell \u001b[1;32mIn[74], line 1\u001b[0m\n\u001b[1;32m----> 1\u001b[0m annotate([\u001b[39m\"\u001b[39;49m\u001b[39m   \u001b[39;49m\u001b[39m\"\u001b[39;49m, \u001b[39m\"\u001b[39;49m\u001b[39m * \u001b[39;49m\u001b[39m\"\u001b[39;49m, \u001b[39m\"\u001b[39;49m\u001b[39m   \u001b[39;49m\u001b[39m\"\u001b[39;49m])\n",
      "File \u001b[1;32mf:\\Code\\Exercism\\python\\minesweeper\\minesweeper.py:17\u001b[0m\n\u001b[0;32m     15\u001b[0m \u001b[39mprint\u001b[39m(wrong_char)\n\u001b[0;32m     16\u001b[0m \u001b[39mif\u001b[39;00m wrong_lenght \u001b[39mor\u001b[39;00m wrong_char:\n\u001b[1;32m---> 17\u001b[0m     \u001b[39mraise\u001b[39;00m \u001b[39mValueError\u001b[39;00m(\u001b[39m\"\u001b[39m\u001b[39mThe board is invalid with current input.\u001b[39m\u001b[39m\"\u001b[39m)\n\u001b[0;32m     19\u001b[0m values \u001b[39m=\u001b[39m [(x, y, minefield[x][y])\n\u001b[0;32m     20\u001b[0m           \u001b[39mfor\u001b[39;00m x \u001b[39min\u001b[39;00m \u001b[39mrange\u001b[39m(\u001b[39mlen\u001b[39m(minefield))\n\u001b[0;32m     21\u001b[0m           \u001b[39mfor\u001b[39;00m y \u001b[39min\u001b[39;00m \u001b[39mrange\u001b[39m(\u001b[39mlen\u001b[39m(minefield[\u001b[39m0\u001b[39m]))]\n\u001b[0;32m     23\u001b[0m \u001b[39mfor\u001b[39;00m value \u001b[39min\u001b[39;00m values:\n",
      "\u001b[1;31mValueError\u001b[0m: The board is invalid with current input."
     ]
    }
   ],
   "source": [
    "annotate([\"   \", \" * \", \"   \"])"
   ]
  },
  {
   "cell_type": "code",
   "execution_count": 75,
   "id": "b65a7896-4c7b-4aae-8406-030fd5e44417",
   "metadata": {},
   "outputs": [],
   "source": [
    "COORDS = [(1, 0), # right \n",
    "          (1, -1), # diagonal right down\n",
    "          (0, -1), # down\n",
    "          (-1, -1), # diagonal left down\n",
    "          (-1, 0), # left\n",
    "          (-1, 1), # diagonal left up\n",
    "          (0, 1), # up\n",
    "          (1, 1)] # diagonal right up\n",
    "\n",
    "def annotate(minefield) -> list:\n",
    "\n",
    "    wrong_lenght = any(map(lambda x: len(minefield[0]) != len(minefield[x]), range(0, len(minefield), 1)))\n",
    "    wrong_char = any((minefield[i][j] != ' ' or minefield[i][j] != '*') for i in range(len(minefield)) for j in range(len(minefield[0])))\n",
    "    #\n",
    "    print(wrong_char)\n",
    "    if wrong_lenght or wrong_char:\n",
    "        raise ValueError(\"The board is invalid with current input.\")\n",
    "    \n",
    "    values = [(x, y, minefield[x][y])\n",
    "              for x in range(len(minefield))\n",
    "              for y in range(len(minefield[0]))]\n",
    "\n",
    "    for value in values:\n",
    "        nr_bombs = 0\n",
    "        if value[2] == ' ': # is an empty space in the board\n",
    "            for coord in COORDS:\n",
    "                check_mine = tuple(sum(x) for x in zip(value[:2], coord)) # check ajacent coord\n",
    "                \n",
    "                # check if check_mine is under board scope\n",
    "                if check_mine[0] >= len(minefield) or check_mine[1] >= len(minefield[0]) or check_mine[0] < 0 or check_mine[1] < 0:\n",
    "                    continue\n",
    "\n",
    "                if minefield[check_mine[0]][check_mine[1]] == '*': # if it's a bomb\n",
    "                    nr_bombs += 1 # increase nr of bombs adjacent\n",
    "\n",
    "            # change on the board\n",
    "            # strings are immutable so we need to convert to a list\n",
    "            if (nr_bombs != 0):\n",
    "                row = list(minefield[value[0]])\n",
    "                row[value[1]] = str(nr_bombs)\n",
    "                minefield[value[0]] = \"\".join(row)\n",
    "\n",
    "    return minefield"
   ]
  },
  {
   "cell_type": "code",
   "execution_count": 76,
   "metadata": {},
   "outputs": [
    {
     "name": "stdout",
     "output_type": "stream",
     "text": [
      "True\n"
     ]
    },
    {
     "ename": "ValueError",
     "evalue": "The board is invalid with current input.",
     "output_type": "error",
     "traceback": [
      "\u001b[1;31m---------------------------------------------------------------------------\u001b[0m",
      "\u001b[1;31mValueError\u001b[0m                                Traceback (most recent call last)",
      "Cell \u001b[1;32mIn[76], line 1\u001b[0m\n\u001b[1;32m----> 1\u001b[0m annotate([\u001b[39m\"\u001b[39;49m\u001b[39m   \u001b[39;49m\u001b[39m\"\u001b[39;49m, \u001b[39m\"\u001b[39;49m\u001b[39m * \u001b[39;49m\u001b[39m\"\u001b[39;49m, \u001b[39m\"\u001b[39;49m\u001b[39m   \u001b[39;49m\u001b[39m\"\u001b[39;49m])\n",
      "File \u001b[1;32mf:\\Code\\Exercism\\python\\minesweeper\\minesweeper.py:17\u001b[0m\n\u001b[0;32m     15\u001b[0m \u001b[39mprint\u001b[39m(wrong_char)\n\u001b[0;32m     16\u001b[0m \u001b[39mif\u001b[39;00m wrong_lenght \u001b[39mor\u001b[39;00m wrong_char:\n\u001b[1;32m---> 17\u001b[0m     \u001b[39mraise\u001b[39;00m \u001b[39mValueError\u001b[39;00m(\u001b[39m\"\u001b[39m\u001b[39mThe board is invalid with current input.\u001b[39m\u001b[39m\"\u001b[39m)\n\u001b[0;32m     19\u001b[0m values \u001b[39m=\u001b[39m [(x, y, minefield[x][y])\n\u001b[0;32m     20\u001b[0m           \u001b[39mfor\u001b[39;00m x \u001b[39min\u001b[39;00m \u001b[39mrange\u001b[39m(\u001b[39mlen\u001b[39m(minefield))\n\u001b[0;32m     21\u001b[0m           \u001b[39mfor\u001b[39;00m y \u001b[39min\u001b[39;00m \u001b[39mrange\u001b[39m(\u001b[39mlen\u001b[39m(minefield[\u001b[39m0\u001b[39m]))]\n\u001b[0;32m     23\u001b[0m \u001b[39mfor\u001b[39;00m value \u001b[39min\u001b[39;00m values:\n",
      "\u001b[1;31mValueError\u001b[0m: The board is invalid with current input."
     ]
    }
   ],
   "source": [
    "annotate([\"   \", \" * \", \"   \"])"
   ]
  },
  {
   "cell_type": "code",
   "execution_count": 77,
   "metadata": {},
   "outputs": [],
   "source": [
    "a = [\"   \", \" * \", \"   \"]"
   ]
  },
  {
   "cell_type": "code",
   "execution_count": 78,
   "metadata": {},
   "outputs": [
    {
     "data": {
      "text/plain": [
       "True"
      ]
     },
     "execution_count": 78,
     "metadata": {},
     "output_type": "execute_result"
    }
   ],
   "source": [
    "any(a[i][j] != '' for i in range(len(a)) for j in range(len(a[0])))"
   ]
  },
  {
   "cell_type": "code",
   "execution_count": 79,
   "metadata": {},
   "outputs": [
    {
     "data": {
      "text/plain": [
       "True"
      ]
     },
     "execution_count": 79,
     "metadata": {},
     "output_type": "execute_result"
    }
   ],
   "source": [
    "any(a[i][j] != ' ' for i in range(len(a)) for j in range(len(a[0])))"
   ]
  },
  {
   "cell_type": "code",
   "execution_count": 80,
   "metadata": {},
   "outputs": [],
   "source": [
    "a = [\"   \", \"  \", \"   \"]"
   ]
  }
 ],
 "metadata": {
  "kernelspec": {
   "display_name": "Python 3",
   "language": "python",
   "name": "python3"
  },
  "language_info": {
   "codemirror_mode": {
    "name": "ipython",
    "version": 3
   },
   "file_extension": ".py",
   "mimetype": "text/x-python",
   "name": "python",
   "nbconvert_exporter": "python",
   "pygments_lexer": "ipython3",
   "version": "3.12.4"
  }
 },
 "nbformat": 4,
 "nbformat_minor": 2
}
